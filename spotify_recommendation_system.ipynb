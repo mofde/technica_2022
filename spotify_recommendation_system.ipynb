{
  "nbformat": 4,
  "nbformat_minor": 0,
  "metadata": {
    "colab": {
      "provenance": [],
      "include_colab_link": true
    },
    "kernelspec": {
      "name": "python3",
      "display_name": "Python 3"
    },
    "language_info": {
      "name": "python"
    },
    "accelerator": "GPU",
    "gpuClass": "standard"
  },
  "cells": [
    {
      "cell_type": "markdown",
      "metadata": {
        "id": "view-in-github",
        "colab_type": "text"
      },
      "source": [
        "<a href=\"https://colab.research.google.com/github/mofde/technica_2022/blob/main/spotify_recommendation_system.ipynb\" target=\"_parent\"><img src=\"https://colab.research.google.com/assets/colab-badge.svg\" alt=\"Open In Colab\"/></a>"
      ]
    },
    {
      "cell_type": "code",
      "execution_count": null,
      "metadata": {
        "id": "2vl0yXW6aNjG",
        "colab": {
          "base_uri": "https://localhost:8080/"
        },
        "outputId": "9a37e0a6-cad8-453d-facc-375e4ea8c838"
      },
      "outputs": [
        {
          "output_type": "stream",
          "name": "stdout",
          "text": [
            "Looking in indexes: https://pypi.org/simple, https://us-python.pkg.dev/colab-wheels/public/simple/\n",
            "Collecting Spotipy\n",
            "  Downloading spotipy-2.23.0-py3-none-any.whl (29 kB)\n",
            "Requirement already satisfied: six>=1.15.0 in /usr/local/lib/python3.9/dist-packages (from Spotipy) (1.16.0)\n",
            "Requirement already satisfied: urllib3>=1.26.0 in /usr/local/lib/python3.9/dist-packages (from Spotipy) (1.26.15)\n",
            "Collecting redis>=3.5.3\n",
            "  Downloading redis-4.5.4-py3-none-any.whl (238 kB)\n",
            "\u001b[2K     \u001b[90m━━━━━━━━━━━━━━━━━━━━━━━━━━━━━━━━━━━━━━━\u001b[0m \u001b[32m238.9/238.9 kB\u001b[0m \u001b[31m6.1 MB/s\u001b[0m eta \u001b[36m0:00:00\u001b[0m\n",
            "\u001b[?25hRequirement already satisfied: requests>=2.25.0 in /usr/local/lib/python3.9/dist-packages (from Spotipy) (2.27.1)\n",
            "Collecting async-timeout>=4.0.2\n",
            "  Downloading async_timeout-4.0.2-py3-none-any.whl (5.8 kB)\n",
            "Requirement already satisfied: idna<4,>=2.5 in /usr/local/lib/python3.9/dist-packages (from requests>=2.25.0->Spotipy) (3.4)\n",
            "Requirement already satisfied: certifi>=2017.4.17 in /usr/local/lib/python3.9/dist-packages (from requests>=2.25.0->Spotipy) (2022.12.7)\n",
            "Requirement already satisfied: charset-normalizer~=2.0.0 in /usr/local/lib/python3.9/dist-packages (from requests>=2.25.0->Spotipy) (2.0.12)\n",
            "Installing collected packages: async-timeout, redis, Spotipy\n",
            "Successfully installed Spotipy-2.23.0 async-timeout-4.0.2 redis-4.5.4\n"
          ]
        }
      ],
      "source": [
        "!pip install Spotipy"
      ]
    },
    {
      "cell_type": "code",
      "source": [
        "from google.colab import drive\n",
        "drive.mount('/content/drive')"
      ],
      "metadata": {
        "colab": {
          "base_uri": "https://localhost:8080/"
        },
        "id": "qKdKgow-aUEj",
        "outputId": "06f68da6-969c-47f0-818f-f8525c2bc0fb"
      },
      "execution_count": null,
      "outputs": [
        {
          "output_type": "stream",
          "name": "stdout",
          "text": [
            "Mounted at /content/drive\n"
          ]
        }
      ]
    },
    {
      "cell_type": "code",
      "source": [
        "import pandas as pd\n",
        "import numpy as np\n",
        "import json\n",
        "import re\n",
        "import sys\n",
        "import itertools\n",
        "\n",
        "from sklearn.feature_extraction.text import TfidfVectorizer\n",
        "from sklearn.metrics.pairwise import cosine_similarity\n",
        "from sklearn.preprocessing import MinMaxScaler\n",
        "import matplotlib.pyplot as plt\n",
        "\n",
        "\n",
        "import spotipy\n",
        "from spotipy.oauth2 import SpotifyClientCredentials\n",
        "from spotipy.oauth2 import SpotifyOAuth\n",
        "import spotipy.util as util\n",
        "\n",
        "import warnings\n",
        "warnings.filterwarnings(\"ignore\")\n"
      ],
      "metadata": {
        "id": "9E43HeZYaay4"
      },
      "execution_count": null,
      "outputs": []
    },
    {
      "cell_type": "code",
      "source": [
        "%matplotlib inline"
      ],
      "metadata": {
        "id": "-a7XQjOXakhb"
      },
      "execution_count": null,
      "outputs": []
    },
    {
      "cell_type": "code",
      "source": [
        "from IPython.core.display import display, HTML\n",
        "display(HTML(\"<style>.container { width:90% !important; }</style>\"))"
      ],
      "metadata": {
        "colab": {
          "base_uri": "https://localhost:8080/",
          "height": 17
        },
        "id": "C6sQQ1mPaosh",
        "outputId": "bc0c8ab3-0116-4ebb-f80c-34d9fce7f5cc"
      },
      "execution_count": null,
      "outputs": [
        {
          "output_type": "display_data",
          "data": {
            "text/plain": [
              "<IPython.core.display.HTML object>"
            ],
            "text/html": [
              "<style>.container { width:90% !important; }</style>"
            ]
          },
          "metadata": {}
        }
      ]
    },
    {
      "cell_type": "markdown",
      "source": [
        "# Data Prepocessing"
      ],
      "metadata": {
        "id": "s3vDsZM3atZ_"
      }
    },
    {
      "cell_type": "code",
      "source": [
        "spotify_df = pd.read_csv(\"/content/drive/Shareddrives/spotify_music/data.csv\")"
      ],
      "metadata": {
        "id": "Lj75DfssayuA"
      },
      "execution_count": null,
      "outputs": []
    },
    {
      "cell_type": "code",
      "source": [
        "spotify_df.head()"
      ],
      "metadata": {
        "colab": {
          "base_uri": "https://localhost:8080/",
          "height": 504
        },
        "id": "A-S6R-sta-jK",
        "outputId": "1786add4-5eaa-438d-88cc-9dea02891f99"
      },
      "execution_count": null,
      "outputs": [
        {
          "output_type": "execute_result",
          "data": {
            "text/plain": [
              "   valence  year  acousticness   \n",
              "0   0.0594  1921         0.982  \\\n",
              "1   0.9630  1921         0.732   \n",
              "2   0.0394  1921         0.961   \n",
              "3   0.1650  1921         0.967   \n",
              "4   0.2530  1921         0.957   \n",
              "\n",
              "                                             artists  danceability   \n",
              "0  ['Sergei Rachmaninoff', 'James Levine', 'Berli...         0.279  \\\n",
              "1                                     ['Dennis Day']         0.819   \n",
              "2  ['KHP Kridhamardawa Karaton Ngayogyakarta Hadi...         0.328   \n",
              "3                                   ['Frank Parker']         0.275   \n",
              "4                                     ['Phil Regan']         0.418   \n",
              "\n",
              "   duration_ms  energy  explicit                      id  instrumentalness   \n",
              "0       831667   0.211         0  4BJqT0PrAfrxzMOxytFOIz          0.878000  \\\n",
              "1       180533   0.341         0  7xPhfUan2yNtyFG0cUWkt8          0.000000   \n",
              "2       500062   0.166         0  1o6I8BglA6ylDMrIELygv1          0.913000   \n",
              "3       210000   0.309         0  3ftBPsC5vPBKxYSee08FDH          0.000028   \n",
              "4       166693   0.193         0  4d6HGyGT8e121BsdKmw9v6          0.000002   \n",
              "\n",
              "   key  liveness  loudness  mode   \n",
              "0   10     0.665   -20.096     1  \\\n",
              "1    7     0.160   -12.441     1   \n",
              "2    3     0.101   -14.850     1   \n",
              "3    5     0.381    -9.316     1   \n",
              "4    3     0.229   -10.096     1   \n",
              "\n",
              "                                                name  popularity release_date   \n",
              "0  Piano Concerto No. 3 in D Minor, Op. 30: III. ...           4         1921  \\\n",
              "1                            Clancy Lowered the Boom           5         1921   \n",
              "2                                          Gati Bali           5         1921   \n",
              "3                                          Danny Boy           3         1921   \n",
              "4                        When Irish Eyes Are Smiling           2         1921   \n",
              "\n",
              "   speechiness    tempo  \n",
              "0       0.0366   80.954  \n",
              "1       0.4150   60.936  \n",
              "2       0.0339  110.339  \n",
              "3       0.0354  100.109  \n",
              "4       0.0380  101.665  "
            ],
            "text/html": [
              "<div>\n",
              "<style scoped>\n",
              "    .dataframe tbody tr th:only-of-type {\n",
              "        vertical-align: middle;\n",
              "    }\n",
              "\n",
              "    .dataframe tbody tr th {\n",
              "        vertical-align: top;\n",
              "    }\n",
              "\n",
              "    .dataframe thead th {\n",
              "        text-align: right;\n",
              "    }\n",
              "</style>\n",
              "<table border=\"1\" class=\"dataframe\">\n",
              "  <thead>\n",
              "    <tr style=\"text-align: right;\">\n",
              "      <th></th>\n",
              "      <th>valence</th>\n",
              "      <th>year</th>\n",
              "      <th>acousticness</th>\n",
              "      <th>artists</th>\n",
              "      <th>danceability</th>\n",
              "      <th>duration_ms</th>\n",
              "      <th>energy</th>\n",
              "      <th>explicit</th>\n",
              "      <th>id</th>\n",
              "      <th>instrumentalness</th>\n",
              "      <th>key</th>\n",
              "      <th>liveness</th>\n",
              "      <th>loudness</th>\n",
              "      <th>mode</th>\n",
              "      <th>name</th>\n",
              "      <th>popularity</th>\n",
              "      <th>release_date</th>\n",
              "      <th>speechiness</th>\n",
              "      <th>tempo</th>\n",
              "    </tr>\n",
              "  </thead>\n",
              "  <tbody>\n",
              "    <tr>\n",
              "      <th>0</th>\n",
              "      <td>0.0594</td>\n",
              "      <td>1921</td>\n",
              "      <td>0.982</td>\n",
              "      <td>['Sergei Rachmaninoff', 'James Levine', 'Berli...</td>\n",
              "      <td>0.279</td>\n",
              "      <td>831667</td>\n",
              "      <td>0.211</td>\n",
              "      <td>0</td>\n",
              "      <td>4BJqT0PrAfrxzMOxytFOIz</td>\n",
              "      <td>0.878000</td>\n",
              "      <td>10</td>\n",
              "      <td>0.665</td>\n",
              "      <td>-20.096</td>\n",
              "      <td>1</td>\n",
              "      <td>Piano Concerto No. 3 in D Minor, Op. 30: III. ...</td>\n",
              "      <td>4</td>\n",
              "      <td>1921</td>\n",
              "      <td>0.0366</td>\n",
              "      <td>80.954</td>\n",
              "    </tr>\n",
              "    <tr>\n",
              "      <th>1</th>\n",
              "      <td>0.9630</td>\n",
              "      <td>1921</td>\n",
              "      <td>0.732</td>\n",
              "      <td>['Dennis Day']</td>\n",
              "      <td>0.819</td>\n",
              "      <td>180533</td>\n",
              "      <td>0.341</td>\n",
              "      <td>0</td>\n",
              "      <td>7xPhfUan2yNtyFG0cUWkt8</td>\n",
              "      <td>0.000000</td>\n",
              "      <td>7</td>\n",
              "      <td>0.160</td>\n",
              "      <td>-12.441</td>\n",
              "      <td>1</td>\n",
              "      <td>Clancy Lowered the Boom</td>\n",
              "      <td>5</td>\n",
              "      <td>1921</td>\n",
              "      <td>0.4150</td>\n",
              "      <td>60.936</td>\n",
              "    </tr>\n",
              "    <tr>\n",
              "      <th>2</th>\n",
              "      <td>0.0394</td>\n",
              "      <td>1921</td>\n",
              "      <td>0.961</td>\n",
              "      <td>['KHP Kridhamardawa Karaton Ngayogyakarta Hadi...</td>\n",
              "      <td>0.328</td>\n",
              "      <td>500062</td>\n",
              "      <td>0.166</td>\n",
              "      <td>0</td>\n",
              "      <td>1o6I8BglA6ylDMrIELygv1</td>\n",
              "      <td>0.913000</td>\n",
              "      <td>3</td>\n",
              "      <td>0.101</td>\n",
              "      <td>-14.850</td>\n",
              "      <td>1</td>\n",
              "      <td>Gati Bali</td>\n",
              "      <td>5</td>\n",
              "      <td>1921</td>\n",
              "      <td>0.0339</td>\n",
              "      <td>110.339</td>\n",
              "    </tr>\n",
              "    <tr>\n",
              "      <th>3</th>\n",
              "      <td>0.1650</td>\n",
              "      <td>1921</td>\n",
              "      <td>0.967</td>\n",
              "      <td>['Frank Parker']</td>\n",
              "      <td>0.275</td>\n",
              "      <td>210000</td>\n",
              "      <td>0.309</td>\n",
              "      <td>0</td>\n",
              "      <td>3ftBPsC5vPBKxYSee08FDH</td>\n",
              "      <td>0.000028</td>\n",
              "      <td>5</td>\n",
              "      <td>0.381</td>\n",
              "      <td>-9.316</td>\n",
              "      <td>1</td>\n",
              "      <td>Danny Boy</td>\n",
              "      <td>3</td>\n",
              "      <td>1921</td>\n",
              "      <td>0.0354</td>\n",
              "      <td>100.109</td>\n",
              "    </tr>\n",
              "    <tr>\n",
              "      <th>4</th>\n",
              "      <td>0.2530</td>\n",
              "      <td>1921</td>\n",
              "      <td>0.957</td>\n",
              "      <td>['Phil Regan']</td>\n",
              "      <td>0.418</td>\n",
              "      <td>166693</td>\n",
              "      <td>0.193</td>\n",
              "      <td>0</td>\n",
              "      <td>4d6HGyGT8e121BsdKmw9v6</td>\n",
              "      <td>0.000002</td>\n",
              "      <td>3</td>\n",
              "      <td>0.229</td>\n",
              "      <td>-10.096</td>\n",
              "      <td>1</td>\n",
              "      <td>When Irish Eyes Are Smiling</td>\n",
              "      <td>2</td>\n",
              "      <td>1921</td>\n",
              "      <td>0.0380</td>\n",
              "      <td>101.665</td>\n",
              "    </tr>\n",
              "  </tbody>\n",
              "</table>\n",
              "</div>"
            ]
          },
          "metadata": {},
          "execution_count": 37
        }
      ]
    },
    {
      "cell_type": "code",
      "source": [
        "data_w_genre = pd.read_csv(\"/content/drive/Shareddrives/spotify_music/data_w_genres.csv\")\n"
      ],
      "metadata": {
        "id": "QjhmMvpSbBwH"
      },
      "execution_count": null,
      "outputs": []
    },
    {
      "cell_type": "code",
      "source": [
        "data_w_genre.head()"
      ],
      "metadata": {
        "id": "0IIGFep3hH8k",
        "colab": {
          "base_uri": "https://localhost:8080/",
          "height": 276
        },
        "outputId": "45fa2b96-3aab-45e2-920f-9d85917b08b8"
      },
      "execution_count": null,
      "outputs": [
        {
          "output_type": "execute_result",
          "data": {
            "text/plain": [
              "           genres                                            artists   \n",
              "0  ['show tunes']                   \"Cats\" 1981 Original London Cast  \\\n",
              "1              []                          \"Cats\" 1983 Broadway Cast   \n",
              "2              []        \"Fiddler On The Roof” Motion Picture Chorus   \n",
              "3              []     \"Fiddler On The Roof” Motion Picture Orchestra   \n",
              "4              []  \"Joseph And The Amazing Technicolor Dreamcoat\"...   \n",
              "\n",
              "   acousticness  danceability    duration_ms    energy  instrumentalness   \n",
              "0      0.590111      0.467222  250318.555556  0.394003          0.011400  \\\n",
              "1      0.862538      0.441731  287280.000000  0.406808          0.081158   \n",
              "2      0.856571      0.348286  328920.000000  0.286571          0.024593   \n",
              "3      0.884926      0.425074  262890.962963  0.245770          0.073587   \n",
              "4      0.510714      0.467143  270436.142857  0.488286          0.009400   \n",
              "\n",
              "   liveness   loudness  speechiness       tempo   valence  popularity  key   \n",
              "0  0.290833 -14.448000     0.210389  117.518111  0.389500   38.333333    5  \\\n",
              "1  0.315215 -10.690000     0.176212  103.044154  0.268865   30.576923    5   \n",
              "2  0.325786 -15.230714     0.118514   77.375857  0.354857   34.857143    0   \n",
              "3  0.275481 -15.639370     0.123200   88.667630  0.372030   34.851852    0   \n",
              "4  0.195000 -10.236714     0.098543  122.835857  0.482286   43.000000    5   \n",
              "\n",
              "   mode  count  \n",
              "0     1      9  \n",
              "1     1     26  \n",
              "2     1      7  \n",
              "3     1     27  \n",
              "4     1      7  "
            ],
            "text/html": [
              "<div>\n",
              "<style scoped>\n",
              "    .dataframe tbody tr th:only-of-type {\n",
              "        vertical-align: middle;\n",
              "    }\n",
              "\n",
              "    .dataframe tbody tr th {\n",
              "        vertical-align: top;\n",
              "    }\n",
              "\n",
              "    .dataframe thead th {\n",
              "        text-align: right;\n",
              "    }\n",
              "</style>\n",
              "<table border=\"1\" class=\"dataframe\">\n",
              "  <thead>\n",
              "    <tr style=\"text-align: right;\">\n",
              "      <th></th>\n",
              "      <th>genres</th>\n",
              "      <th>artists</th>\n",
              "      <th>acousticness</th>\n",
              "      <th>danceability</th>\n",
              "      <th>duration_ms</th>\n",
              "      <th>energy</th>\n",
              "      <th>instrumentalness</th>\n",
              "      <th>liveness</th>\n",
              "      <th>loudness</th>\n",
              "      <th>speechiness</th>\n",
              "      <th>tempo</th>\n",
              "      <th>valence</th>\n",
              "      <th>popularity</th>\n",
              "      <th>key</th>\n",
              "      <th>mode</th>\n",
              "      <th>count</th>\n",
              "    </tr>\n",
              "  </thead>\n",
              "  <tbody>\n",
              "    <tr>\n",
              "      <th>0</th>\n",
              "      <td>['show tunes']</td>\n",
              "      <td>\"Cats\" 1981 Original London Cast</td>\n",
              "      <td>0.590111</td>\n",
              "      <td>0.467222</td>\n",
              "      <td>250318.555556</td>\n",
              "      <td>0.394003</td>\n",
              "      <td>0.011400</td>\n",
              "      <td>0.290833</td>\n",
              "      <td>-14.448000</td>\n",
              "      <td>0.210389</td>\n",
              "      <td>117.518111</td>\n",
              "      <td>0.389500</td>\n",
              "      <td>38.333333</td>\n",
              "      <td>5</td>\n",
              "      <td>1</td>\n",
              "      <td>9</td>\n",
              "    </tr>\n",
              "    <tr>\n",
              "      <th>1</th>\n",
              "      <td>[]</td>\n",
              "      <td>\"Cats\" 1983 Broadway Cast</td>\n",
              "      <td>0.862538</td>\n",
              "      <td>0.441731</td>\n",
              "      <td>287280.000000</td>\n",
              "      <td>0.406808</td>\n",
              "      <td>0.081158</td>\n",
              "      <td>0.315215</td>\n",
              "      <td>-10.690000</td>\n",
              "      <td>0.176212</td>\n",
              "      <td>103.044154</td>\n",
              "      <td>0.268865</td>\n",
              "      <td>30.576923</td>\n",
              "      <td>5</td>\n",
              "      <td>1</td>\n",
              "      <td>26</td>\n",
              "    </tr>\n",
              "    <tr>\n",
              "      <th>2</th>\n",
              "      <td>[]</td>\n",
              "      <td>\"Fiddler On The Roof” Motion Picture Chorus</td>\n",
              "      <td>0.856571</td>\n",
              "      <td>0.348286</td>\n",
              "      <td>328920.000000</td>\n",
              "      <td>0.286571</td>\n",
              "      <td>0.024593</td>\n",
              "      <td>0.325786</td>\n",
              "      <td>-15.230714</td>\n",
              "      <td>0.118514</td>\n",
              "      <td>77.375857</td>\n",
              "      <td>0.354857</td>\n",
              "      <td>34.857143</td>\n",
              "      <td>0</td>\n",
              "      <td>1</td>\n",
              "      <td>7</td>\n",
              "    </tr>\n",
              "    <tr>\n",
              "      <th>3</th>\n",
              "      <td>[]</td>\n",
              "      <td>\"Fiddler On The Roof” Motion Picture Orchestra</td>\n",
              "      <td>0.884926</td>\n",
              "      <td>0.425074</td>\n",
              "      <td>262890.962963</td>\n",
              "      <td>0.245770</td>\n",
              "      <td>0.073587</td>\n",
              "      <td>0.275481</td>\n",
              "      <td>-15.639370</td>\n",
              "      <td>0.123200</td>\n",
              "      <td>88.667630</td>\n",
              "      <td>0.372030</td>\n",
              "      <td>34.851852</td>\n",
              "      <td>0</td>\n",
              "      <td>1</td>\n",
              "      <td>27</td>\n",
              "    </tr>\n",
              "    <tr>\n",
              "      <th>4</th>\n",
              "      <td>[]</td>\n",
              "      <td>\"Joseph And The Amazing Technicolor Dreamcoat\"...</td>\n",
              "      <td>0.510714</td>\n",
              "      <td>0.467143</td>\n",
              "      <td>270436.142857</td>\n",
              "      <td>0.488286</td>\n",
              "      <td>0.009400</td>\n",
              "      <td>0.195000</td>\n",
              "      <td>-10.236714</td>\n",
              "      <td>0.098543</td>\n",
              "      <td>122.835857</td>\n",
              "      <td>0.482286</td>\n",
              "      <td>43.000000</td>\n",
              "      <td>5</td>\n",
              "      <td>1</td>\n",
              "      <td>7</td>\n",
              "    </tr>\n",
              "  </tbody>\n",
              "</table>\n",
              "</div>"
            ]
          },
          "metadata": {},
          "execution_count": 38
        }
      ]
    },
    {
      "cell_type": "code",
      "source": [
        "data_w_genre.dtypes\n"
      ],
      "metadata": {
        "colab": {
          "base_uri": "https://localhost:8080/"
        },
        "id": "AfDtnJzTbKIJ",
        "outputId": "e0bca950-3748-4994-ba3a-41dd008cf212"
      },
      "execution_count": null,
      "outputs": [
        {
          "output_type": "execute_result",
          "data": {
            "text/plain": [
              "genres               object\n",
              "artists              object\n",
              "acousticness        float64\n",
              "danceability        float64\n",
              "duration_ms         float64\n",
              "energy              float64\n",
              "instrumentalness    float64\n",
              "liveness            float64\n",
              "loudness            float64\n",
              "speechiness         float64\n",
              "tempo               float64\n",
              "valence             float64\n",
              "popularity          float64\n",
              "key                   int64\n",
              "mode                  int64\n",
              "count                 int64\n",
              "dtype: object"
            ]
          },
          "metadata": {},
          "execution_count": 39
        }
      ]
    },
    {
      "cell_type": "code",
      "source": [
        "data_w_genre['genres'].values[0]"
      ],
      "metadata": {
        "colab": {
          "base_uri": "https://localhost:8080/"
        },
        "id": "eMLhUdBhbMWa",
        "outputId": "470e6dfa-0adf-4c08-d301-748fa65dcb2b"
      },
      "execution_count": null,
      "outputs": [
        {
          "output_type": "execute_result",
          "data": {
            "text/plain": [
              "\"['show tunes']\""
            ]
          },
          "metadata": {},
          "execution_count": 40
        }
      ]
    },
    {
      "cell_type": "code",
      "source": [
        "data_w_genre['genres'].values[0][0]"
      ],
      "metadata": {
        "colab": {
          "base_uri": "https://localhost:8080/"
        },
        "id": "CmujCsSDbOZS",
        "outputId": "6106a7a7-c0e9-4fff-c8c2-b315f0e41aca"
      },
      "execution_count": null,
      "outputs": [
        {
          "output_type": "execute_result",
          "data": {
            "text/plain": [
              "'['"
            ]
          },
          "metadata": {},
          "execution_count": 41
        }
      ]
    },
    {
      "cell_type": "code",
      "source": [
        "data_w_genre['genres_upd'] = data_w_genre['genres'].apply(lambda x: [re.sub(' ','_',i) for i in re.findall(r\"'([^']*)'\", x)])"
      ],
      "metadata": {
        "id": "_DdOrBzqdH4w"
      },
      "execution_count": null,
      "outputs": []
    },
    {
      "cell_type": "code",
      "source": [
        "spotify_df['artists_upd_v1'] = spotify_df['artists'].apply(lambda x: re.findall(r\"'([^']*)'\", x))"
      ],
      "metadata": {
        "id": "7dk5Q5DDbghI"
      },
      "execution_count": null,
      "outputs": []
    },
    {
      "cell_type": "code",
      "source": [
        "data_w_genre['genres_upd'].values[0][0]"
      ],
      "metadata": {
        "colab": {
          "base_uri": "https://localhost:8080/"
        },
        "id": "Q3fdi9H4eR8V",
        "outputId": "9a9b0798-41b2-4269-9aa9-f96d137bd27a"
      },
      "execution_count": null,
      "outputs": [
        {
          "output_type": "execute_result",
          "data": {
            "text/plain": [
              "'show_tunes'"
            ]
          },
          "metadata": {},
          "execution_count": 44
        }
      ]
    },
    {
      "cell_type": "code",
      "source": [
        "spotify_df['artists'].values[0]"
      ],
      "metadata": {
        "colab": {
          "base_uri": "https://localhost:8080/"
        },
        "id": "M4x31HuRbiz_",
        "outputId": "9d12c483-3adf-4fde-cb1a-b0cb3d6a3a5d"
      },
      "execution_count": null,
      "outputs": [
        {
          "output_type": "execute_result",
          "data": {
            "text/plain": [
              "\"['Sergei Rachmaninoff', 'James Levine', 'Berliner Philharmoniker']\""
            ]
          },
          "metadata": {},
          "execution_count": 45
        }
      ]
    },
    {
      "cell_type": "code",
      "source": [
        "spotify_df['artists_upd_v1'].values[0][0]"
      ],
      "metadata": {
        "colab": {
          "base_uri": "https://localhost:8080/"
        },
        "id": "qSREbNnebiyu",
        "outputId": "5929ff23-caa7-45a9-94ef-cae6700a5306"
      },
      "execution_count": null,
      "outputs": [
        {
          "output_type": "execute_result",
          "data": {
            "text/plain": [
              "'Sergei Rachmaninoff'"
            ]
          },
          "metadata": {},
          "execution_count": 46
        }
      ]
    },
    {
      "cell_type": "code",
      "source": [
        "spotify_df[spotify_df['artists_upd_v1'].apply(lambda x: not x)].head(5)"
      ],
      "metadata": {
        "colab": {
          "base_uri": "https://localhost:8080/",
          "height": 521
        },
        "id": "7Xo-MSnZbnz_",
        "outputId": "963da92e-785e-44d1-c6da-2bb5f462154b"
      },
      "execution_count": null,
      "outputs": [
        {
          "output_type": "execute_result",
          "data": {
            "text/plain": [
              "     valence  year  acousticness                             artists   \n",
              "143    0.300  1921         0.772                [\"Scarlet D'Carpio\"]  \\\n",
              "234    0.902  1923         0.994  [\"King Oliver's Creole Jazz Band\"]   \n",
              "238    0.554  1923         0.996  [\"King Oliver's Creole Jazz Band\"]   \n",
              "244    0.319  1923         0.995    [\"Clarence Williams' Blue Five\"]   \n",
              "249    0.753  1923         0.994  [\"King Oliver's Creole Jazz Band\"]   \n",
              "\n",
              "     danceability  duration_ms  energy  explicit                      id   \n",
              "143         0.560       249370   0.313         0  7b4eHImKQ51DYaQvNTdtEp  \\\n",
              "234         0.708       194533   0.361         0  1xEEYhWxT4WhDQdxfPCT8D   \n",
              "238         0.546       170827   0.189         0  3rauXVLOOM5BlxWqUcDpkg   \n",
              "244         0.520       197493   0.153         0  1UdqHVRFYMZKU2Q7xkLtYc   \n",
              "249         0.359       187227   0.357         0  5SvyP1ZeJX1jA7AOZD08NA   \n",
              "\n",
              "     instrumentalness  key  liveness  loudness  mode                     name   \n",
              "143          0.000005    6     0.115    -8.346     0  Himno Nacional del Perú  \\\n",
              "234          0.883000    0     0.103   -11.764     0                Snake Rag   \n",
              "238          0.908000    0     0.339   -15.984     1             Chimes Blues   \n",
              "244          0.131000    0     0.353   -14.042     1     Pickin' On Your Baby   \n",
              "249          0.819000    3     0.290   -11.810     1                    Tears   \n",
              "\n",
              "     popularity release_date  speechiness    tempo artists_upd_v1  \n",
              "143           0   1921-09-23       0.0376  107.501             []  \n",
              "234          20         1923       0.0441  105.695             []  \n",
              "238          13         1923       0.0581   80.318             []  \n",
              "244          11         1923       0.0440  102.937             []  \n",
              "249          10         1923       0.0511  205.053             []  "
            ],
            "text/html": [
              "<div>\n",
              "<style scoped>\n",
              "    .dataframe tbody tr th:only-of-type {\n",
              "        vertical-align: middle;\n",
              "    }\n",
              "\n",
              "    .dataframe tbody tr th {\n",
              "        vertical-align: top;\n",
              "    }\n",
              "\n",
              "    .dataframe thead th {\n",
              "        text-align: right;\n",
              "    }\n",
              "</style>\n",
              "<table border=\"1\" class=\"dataframe\">\n",
              "  <thead>\n",
              "    <tr style=\"text-align: right;\">\n",
              "      <th></th>\n",
              "      <th>valence</th>\n",
              "      <th>year</th>\n",
              "      <th>acousticness</th>\n",
              "      <th>artists</th>\n",
              "      <th>danceability</th>\n",
              "      <th>duration_ms</th>\n",
              "      <th>energy</th>\n",
              "      <th>explicit</th>\n",
              "      <th>id</th>\n",
              "      <th>instrumentalness</th>\n",
              "      <th>key</th>\n",
              "      <th>liveness</th>\n",
              "      <th>loudness</th>\n",
              "      <th>mode</th>\n",
              "      <th>name</th>\n",
              "      <th>popularity</th>\n",
              "      <th>release_date</th>\n",
              "      <th>speechiness</th>\n",
              "      <th>tempo</th>\n",
              "      <th>artists_upd_v1</th>\n",
              "    </tr>\n",
              "  </thead>\n",
              "  <tbody>\n",
              "    <tr>\n",
              "      <th>143</th>\n",
              "      <td>0.300</td>\n",
              "      <td>1921</td>\n",
              "      <td>0.772</td>\n",
              "      <td>[\"Scarlet D'Carpio\"]</td>\n",
              "      <td>0.560</td>\n",
              "      <td>249370</td>\n",
              "      <td>0.313</td>\n",
              "      <td>0</td>\n",
              "      <td>7b4eHImKQ51DYaQvNTdtEp</td>\n",
              "      <td>0.000005</td>\n",
              "      <td>6</td>\n",
              "      <td>0.115</td>\n",
              "      <td>-8.346</td>\n",
              "      <td>0</td>\n",
              "      <td>Himno Nacional del Perú</td>\n",
              "      <td>0</td>\n",
              "      <td>1921-09-23</td>\n",
              "      <td>0.0376</td>\n",
              "      <td>107.501</td>\n",
              "      <td>[]</td>\n",
              "    </tr>\n",
              "    <tr>\n",
              "      <th>234</th>\n",
              "      <td>0.902</td>\n",
              "      <td>1923</td>\n",
              "      <td>0.994</td>\n",
              "      <td>[\"King Oliver's Creole Jazz Band\"]</td>\n",
              "      <td>0.708</td>\n",
              "      <td>194533</td>\n",
              "      <td>0.361</td>\n",
              "      <td>0</td>\n",
              "      <td>1xEEYhWxT4WhDQdxfPCT8D</td>\n",
              "      <td>0.883000</td>\n",
              "      <td>0</td>\n",
              "      <td>0.103</td>\n",
              "      <td>-11.764</td>\n",
              "      <td>0</td>\n",
              "      <td>Snake Rag</td>\n",
              "      <td>20</td>\n",
              "      <td>1923</td>\n",
              "      <td>0.0441</td>\n",
              "      <td>105.695</td>\n",
              "      <td>[]</td>\n",
              "    </tr>\n",
              "    <tr>\n",
              "      <th>238</th>\n",
              "      <td>0.554</td>\n",
              "      <td>1923</td>\n",
              "      <td>0.996</td>\n",
              "      <td>[\"King Oliver's Creole Jazz Band\"]</td>\n",
              "      <td>0.546</td>\n",
              "      <td>170827</td>\n",
              "      <td>0.189</td>\n",
              "      <td>0</td>\n",
              "      <td>3rauXVLOOM5BlxWqUcDpkg</td>\n",
              "      <td>0.908000</td>\n",
              "      <td>0</td>\n",
              "      <td>0.339</td>\n",
              "      <td>-15.984</td>\n",
              "      <td>1</td>\n",
              "      <td>Chimes Blues</td>\n",
              "      <td>13</td>\n",
              "      <td>1923</td>\n",
              "      <td>0.0581</td>\n",
              "      <td>80.318</td>\n",
              "      <td>[]</td>\n",
              "    </tr>\n",
              "    <tr>\n",
              "      <th>244</th>\n",
              "      <td>0.319</td>\n",
              "      <td>1923</td>\n",
              "      <td>0.995</td>\n",
              "      <td>[\"Clarence Williams' Blue Five\"]</td>\n",
              "      <td>0.520</td>\n",
              "      <td>197493</td>\n",
              "      <td>0.153</td>\n",
              "      <td>0</td>\n",
              "      <td>1UdqHVRFYMZKU2Q7xkLtYc</td>\n",
              "      <td>0.131000</td>\n",
              "      <td>0</td>\n",
              "      <td>0.353</td>\n",
              "      <td>-14.042</td>\n",
              "      <td>1</td>\n",
              "      <td>Pickin' On Your Baby</td>\n",
              "      <td>11</td>\n",
              "      <td>1923</td>\n",
              "      <td>0.0440</td>\n",
              "      <td>102.937</td>\n",
              "      <td>[]</td>\n",
              "    </tr>\n",
              "    <tr>\n",
              "      <th>249</th>\n",
              "      <td>0.753</td>\n",
              "      <td>1923</td>\n",
              "      <td>0.994</td>\n",
              "      <td>[\"King Oliver's Creole Jazz Band\"]</td>\n",
              "      <td>0.359</td>\n",
              "      <td>187227</td>\n",
              "      <td>0.357</td>\n",
              "      <td>0</td>\n",
              "      <td>5SvyP1ZeJX1jA7AOZD08NA</td>\n",
              "      <td>0.819000</td>\n",
              "      <td>3</td>\n",
              "      <td>0.290</td>\n",
              "      <td>-11.810</td>\n",
              "      <td>1</td>\n",
              "      <td>Tears</td>\n",
              "      <td>10</td>\n",
              "      <td>1923</td>\n",
              "      <td>0.0511</td>\n",
              "      <td>205.053</td>\n",
              "      <td>[]</td>\n",
              "    </tr>\n",
              "  </tbody>\n",
              "</table>\n",
              "</div>"
            ]
          },
          "metadata": {},
          "execution_count": 47
        }
      ]
    },
    {
      "cell_type": "code",
      "source": [
        "spotify_df['artists_upd_v2'] = spotify_df['artists'].apply(lambda x: re.findall('\\\"(.*?)\\\"',x))\n",
        "spotify_df['artists_upd'] = np.where(spotify_df['artists_upd_v1'].apply(lambda x: not x), spotify_df['artists_upd_v2'], spotify_df['artists_upd_v1'] )"
      ],
      "metadata": {
        "id": "Ma-XGxf7bnzH"
      },
      "execution_count": null,
      "outputs": []
    },
    {
      "cell_type": "code",
      "source": [
        "spotify_df['artists_song'] = spotify_df.apply(lambda row: row['artists_upd'][0]+row['name'],axis = 1)"
      ],
      "metadata": {
        "id": "pLvtlmowb3O7"
      },
      "execution_count": null,
      "outputs": []
    },
    {
      "cell_type": "code",
      "source": [
        "spotify_df.sort_values(['artists_song','release_date'], ascending = False, inplace = True)"
      ],
      "metadata": {
        "id": "2g1QzkpMb3OI"
      },
      "execution_count": null,
      "outputs": []
    },
    {
      "cell_type": "code",
      "source": [
        "spotify_df[spotify_df['name']=='Adore You']"
      ],
      "metadata": {
        "colab": {
          "base_uri": "https://localhost:8080/",
          "height": 231
        },
        "id": "ybVLkPacb8o0",
        "outputId": "19287740-40a0-4e2f-f5e0-1cca3ad6174b"
      },
      "execution_count": null,
      "outputs": [
        {
          "output_type": "execute_result",
          "data": {
            "text/plain": [
              "       valence  year  acousticness           artists  danceability   \n",
              "19425    0.569  2019        0.0237  ['Harry Styles']         0.676  \\\n",
              "38319    0.569  2019        0.0237  ['Harry Styles']         0.676   \n",
              "\n",
              "       duration_ms  energy  explicit                      id   \n",
              "19425       207133   0.771         0  3jjujdWJ72nww5eGnfs2E7  \\\n",
              "38319       207133   0.771         0  1M4qEo4HE3PRaCOM7EXNJq   \n",
              "\n",
              "       instrumentalness  ...  mode       name  popularity  release_date   \n",
              "19425          0.000007  ...     1  Adore You          88    2019-12-13  \\\n",
              "38319          0.000007  ...     1  Adore You          77    2019-12-06   \n",
              "\n",
              "      speechiness   tempo  artists_upd_v1  artists_upd_v2     artists_upd   \n",
              "19425      0.0483  99.048  [Harry Styles]              []  [Harry Styles]  \\\n",
              "38319      0.0483  99.048  [Harry Styles]              []  [Harry Styles]   \n",
              "\n",
              "                artists_song  \n",
              "19425  Harry StylesAdore You  \n",
              "38319  Harry StylesAdore You  \n",
              "\n",
              "[2 rows x 23 columns]"
            ],
            "text/html": [
              "<div>\n",
              "<style scoped>\n",
              "    .dataframe tbody tr th:only-of-type {\n",
              "        vertical-align: middle;\n",
              "    }\n",
              "\n",
              "    .dataframe tbody tr th {\n",
              "        vertical-align: top;\n",
              "    }\n",
              "\n",
              "    .dataframe thead th {\n",
              "        text-align: right;\n",
              "    }\n",
              "</style>\n",
              "<table border=\"1\" class=\"dataframe\">\n",
              "  <thead>\n",
              "    <tr style=\"text-align: right;\">\n",
              "      <th></th>\n",
              "      <th>valence</th>\n",
              "      <th>year</th>\n",
              "      <th>acousticness</th>\n",
              "      <th>artists</th>\n",
              "      <th>danceability</th>\n",
              "      <th>duration_ms</th>\n",
              "      <th>energy</th>\n",
              "      <th>explicit</th>\n",
              "      <th>id</th>\n",
              "      <th>instrumentalness</th>\n",
              "      <th>...</th>\n",
              "      <th>mode</th>\n",
              "      <th>name</th>\n",
              "      <th>popularity</th>\n",
              "      <th>release_date</th>\n",
              "      <th>speechiness</th>\n",
              "      <th>tempo</th>\n",
              "      <th>artists_upd_v1</th>\n",
              "      <th>artists_upd_v2</th>\n",
              "      <th>artists_upd</th>\n",
              "      <th>artists_song</th>\n",
              "    </tr>\n",
              "  </thead>\n",
              "  <tbody>\n",
              "    <tr>\n",
              "      <th>19425</th>\n",
              "      <td>0.569</td>\n",
              "      <td>2019</td>\n",
              "      <td>0.0237</td>\n",
              "      <td>['Harry Styles']</td>\n",
              "      <td>0.676</td>\n",
              "      <td>207133</td>\n",
              "      <td>0.771</td>\n",
              "      <td>0</td>\n",
              "      <td>3jjujdWJ72nww5eGnfs2E7</td>\n",
              "      <td>0.000007</td>\n",
              "      <td>...</td>\n",
              "      <td>1</td>\n",
              "      <td>Adore You</td>\n",
              "      <td>88</td>\n",
              "      <td>2019-12-13</td>\n",
              "      <td>0.0483</td>\n",
              "      <td>99.048</td>\n",
              "      <td>[Harry Styles]</td>\n",
              "      <td>[]</td>\n",
              "      <td>[Harry Styles]</td>\n",
              "      <td>Harry StylesAdore You</td>\n",
              "    </tr>\n",
              "    <tr>\n",
              "      <th>38319</th>\n",
              "      <td>0.569</td>\n",
              "      <td>2019</td>\n",
              "      <td>0.0237</td>\n",
              "      <td>['Harry Styles']</td>\n",
              "      <td>0.676</td>\n",
              "      <td>207133</td>\n",
              "      <td>0.771</td>\n",
              "      <td>0</td>\n",
              "      <td>1M4qEo4HE3PRaCOM7EXNJq</td>\n",
              "      <td>0.000007</td>\n",
              "      <td>...</td>\n",
              "      <td>1</td>\n",
              "      <td>Adore You</td>\n",
              "      <td>77</td>\n",
              "      <td>2019-12-06</td>\n",
              "      <td>0.0483</td>\n",
              "      <td>99.048</td>\n",
              "      <td>[Harry Styles]</td>\n",
              "      <td>[]</td>\n",
              "      <td>[Harry Styles]</td>\n",
              "      <td>Harry StylesAdore You</td>\n",
              "    </tr>\n",
              "  </tbody>\n",
              "</table>\n",
              "<p>2 rows × 23 columns</p>\n",
              "</div>"
            ]
          },
          "metadata": {},
          "execution_count": 51
        }
      ]
    },
    {
      "cell_type": "code",
      "source": [
        "spotify_df.drop_duplicates('artists_song',inplace = True)"
      ],
      "metadata": {
        "id": "bsIuBa-jb-yI"
      },
      "execution_count": null,
      "outputs": []
    },
    {
      "cell_type": "code",
      "source": [
        "artists_exploded = spotify_df[['artists_upd','id']].explode('artists_upd')"
      ],
      "metadata": {
        "id": "M98nbaaxcEaF"
      },
      "execution_count": null,
      "outputs": []
    },
    {
      "cell_type": "code",
      "source": [
        "artists_exploded_enriched = artists_exploded.merge(data_w_genre, how = 'left', left_on = 'artists_upd',right_on = 'artists')\n",
        "artists_exploded_enriched_nonnull = artists_exploded_enriched[~artists_exploded_enriched.genres_upd.isnull()]"
      ],
      "metadata": {
        "id": "1xwI_h8acNfF"
      },
      "execution_count": null,
      "outputs": []
    },
    {
      "cell_type": "code",
      "source": [
        "artists_genres_consolidated = artists_exploded_enriched_nonnull.groupby('id')['genres_upd'].apply(list).reset_index()"
      ],
      "metadata": {
        "id": "kmN7YM3reccm"
      },
      "execution_count": null,
      "outputs": []
    },
    {
      "cell_type": "code",
      "source": [
        "artists_genres_consolidated['consolidates_genre_lists'] = artists_genres_consolidated['genres_upd'].apply(lambda x: list(set(list(itertools.chain.from_iterable(x)))))"
      ],
      "metadata": {
        "id": "_vN0VCAVewSZ"
      },
      "execution_count": null,
      "outputs": []
    },
    {
      "cell_type": "code",
      "source": [
        "artists_genres_consolidated.head()"
      ],
      "metadata": {
        "colab": {
          "base_uri": "https://localhost:8080/",
          "height": 206
        },
        "id": "B-TlHWkye1Mt",
        "outputId": "f676da24-31cb-46a4-8972-ec3b84b126ff"
      },
      "execution_count": null,
      "outputs": [
        {
          "output_type": "execute_result",
          "data": {
            "text/plain": [
              "                       id                                         genres_upd   \n",
              "0  000G1xMMuwxNHmwVsBdtj1  [[candy_pop, dance_rock, new_wave, new_wave_po...  \\\n",
              "1  000GyYHG4uWmlXieKLij8u  [[alternative_hip_hop, conscious_hip_hop, minn...   \n",
              "2  000Npgk5e2SgwGaIsN3ztv  [[classic_bollywood, classic_pakistani_pop, fi...   \n",
              "3  000ZxLGm7jDlWCHtcXSeBe    [[boogie-woogie, piano_blues, ragtime, stride]]   \n",
              "4  000jBcNljWTnyjB4YO7ojf                                               [[]]   \n",
              "\n",
              "                            consolidates_genre_lists  \n",
              "0  [permanent_wave, new_wave, rock, new_wave_pop,...  \n",
              "1  [conscious_hip_hop, alternative_hip_hop, minne...  \n",
              "2  [filmi, ghazal, classic_pakistani_pop, sufi, c...  \n",
              "3      [piano_blues, ragtime, stride, boogie-woogie]  \n",
              "4                                                 []  "
            ],
            "text/html": [
              "<div>\n",
              "<style scoped>\n",
              "    .dataframe tbody tr th:only-of-type {\n",
              "        vertical-align: middle;\n",
              "    }\n",
              "\n",
              "    .dataframe tbody tr th {\n",
              "        vertical-align: top;\n",
              "    }\n",
              "\n",
              "    .dataframe thead th {\n",
              "        text-align: right;\n",
              "    }\n",
              "</style>\n",
              "<table border=\"1\" class=\"dataframe\">\n",
              "  <thead>\n",
              "    <tr style=\"text-align: right;\">\n",
              "      <th></th>\n",
              "      <th>id</th>\n",
              "      <th>genres_upd</th>\n",
              "      <th>consolidates_genre_lists</th>\n",
              "    </tr>\n",
              "  </thead>\n",
              "  <tbody>\n",
              "    <tr>\n",
              "      <th>0</th>\n",
              "      <td>000G1xMMuwxNHmwVsBdtj1</td>\n",
              "      <td>[[candy_pop, dance_rock, new_wave, new_wave_po...</td>\n",
              "      <td>[permanent_wave, new_wave, rock, new_wave_pop,...</td>\n",
              "    </tr>\n",
              "    <tr>\n",
              "      <th>1</th>\n",
              "      <td>000GyYHG4uWmlXieKLij8u</td>\n",
              "      <td>[[alternative_hip_hop, conscious_hip_hop, minn...</td>\n",
              "      <td>[conscious_hip_hop, alternative_hip_hop, minne...</td>\n",
              "    </tr>\n",
              "    <tr>\n",
              "      <th>2</th>\n",
              "      <td>000Npgk5e2SgwGaIsN3ztv</td>\n",
              "      <td>[[classic_bollywood, classic_pakistani_pop, fi...</td>\n",
              "      <td>[filmi, ghazal, classic_pakistani_pop, sufi, c...</td>\n",
              "    </tr>\n",
              "    <tr>\n",
              "      <th>3</th>\n",
              "      <td>000ZxLGm7jDlWCHtcXSeBe</td>\n",
              "      <td>[[boogie-woogie, piano_blues, ragtime, stride]]</td>\n",
              "      <td>[piano_blues, ragtime, stride, boogie-woogie]</td>\n",
              "    </tr>\n",
              "    <tr>\n",
              "      <th>4</th>\n",
              "      <td>000jBcNljWTnyjB4YO7ojf</td>\n",
              "      <td>[[]]</td>\n",
              "      <td>[]</td>\n",
              "    </tr>\n",
              "  </tbody>\n",
              "</table>\n",
              "</div>"
            ]
          },
          "metadata": {},
          "execution_count": 57
        }
      ]
    },
    {
      "cell_type": "code",
      "source": [
        "spotify_df = spotify_df.merge(artists_genres_consolidated[['id','consolidates_genre_lists']], on = 'id',how = 'left')"
      ],
      "metadata": {
        "id": "U9M3qGi5e6jc"
      },
      "execution_count": null,
      "outputs": []
    },
    {
      "cell_type": "markdown",
      "source": [
        "# OHE"
      ],
      "metadata": {
        "id": "MqTVF8cJe8uj"
      }
    },
    {
      "cell_type": "code",
      "source": [
        "!pip install textblob"
      ],
      "metadata": {
        "colab": {
          "base_uri": "https://localhost:8080/"
        },
        "id": "pPHh2tJdQrds",
        "outputId": "681546ed-d7a2-4942-fcfe-0222c9486cf4"
      },
      "execution_count": null,
      "outputs": [
        {
          "output_type": "stream",
          "name": "stdout",
          "text": [
            "Collecting textblob\n",
            "  Downloading textblob-0.17.1-py2.py3-none-any.whl (636 kB)\n",
            "\u001b[2K     \u001b[90m━━━━━━━━━━━━━━━━━━━━━━━━━━━━━━━━━━━━━━\u001b[0m \u001b[32m636.8/636.8 kB\u001b[0m \u001b[31m12.0 MB/s\u001b[0m eta \u001b[36m0:00:00\u001b[0m\n",
            "\u001b[?25hCollecting nltk>=3.1 (from textblob)\n",
            "  Downloading nltk-3.8.1-py3-none-any.whl (1.5 MB)\n",
            "\u001b[2K     \u001b[90m━━━━━━━━━━━━━━━━━━━━━━━━━━━━━━━━━━━━━━━━\u001b[0m \u001b[32m1.5/1.5 MB\u001b[0m \u001b[31m22.0 MB/s\u001b[0m eta \u001b[36m0:00:00\u001b[0m\n",
            "\u001b[?25hCollecting click (from nltk>=3.1->textblob)\n",
            "  Downloading click-8.1.3-py3-none-any.whl (96 kB)\n",
            "\u001b[2K     \u001b[90m━━━━━━━━━━━━━━━━━━━━━━━━━━━━━━━━━━━━━━━━\u001b[0m \u001b[32m96.6/96.6 kB\u001b[0m \u001b[31m9.7 MB/s\u001b[0m eta \u001b[36m0:00:00\u001b[0m\n",
            "\u001b[?25hRequirement already satisfied: joblib in /Library/Frameworks/Python.framework/Versions/3.11/lib/python3.11/site-packages (from nltk>=3.1->textblob) (1.2.0)\n",
            "Collecting regex>=2021.8.3 (from nltk>=3.1->textblob)\n",
            "  Downloading regex-2023.3.23-cp311-cp311-macosx_11_0_arm64.whl (288 kB)\n",
            "\u001b[2K     \u001b[90m━━━━━━━━━━━━━━━━━━━━━━━━━━━━━━━━━━━━━━\u001b[0m \u001b[32m288.8/288.8 kB\u001b[0m \u001b[31m17.2 MB/s\u001b[0m eta \u001b[36m0:00:00\u001b[0m\n",
            "\u001b[?25hCollecting tqdm (from nltk>=3.1->textblob)\n",
            "  Downloading tqdm-4.65.0-py3-none-any.whl (77 kB)\n",
            "\u001b[2K     \u001b[90m━━━━━━━━━━━━━━━━━━━━━━━━━━━━━━━━━━━━━━━━\u001b[0m \u001b[32m77.1/77.1 kB\u001b[0m \u001b[31m7.3 MB/s\u001b[0m eta \u001b[36m0:00:00\u001b[0m\n",
            "\u001b[?25hInstalling collected packages: tqdm, regex, click, nltk, textblob\n",
            "Successfully installed click-8.1.3 nltk-3.8.1 regex-2023.3.23 textblob-0.17.1 tqdm-4.65.0\n"
          ]
        }
      ]
    },
    {
      "cell_type": "code",
      "source": [
        "spotify_df.tail()"
      ],
      "metadata": {
        "colab": {
          "base_uri": "https://localhost:8080/",
          "height": 603
        },
        "id": "vnp6lk7we9vQ",
        "outputId": "83ce399e-f29c-4436-ee49-cc5fccbc0d32"
      },
      "execution_count": null,
      "outputs": [
        {
          "output_type": "execute_result",
          "data": {
            "text/plain": [
              "        valence  year  acousticness   \n",
              "156602    0.768  1997        0.2820  \\\n",
              "156603    0.792  2004        0.0248   \n",
              "156604    0.697  1999        0.0516   \n",
              "156605    0.429  1994        0.0249   \n",
              "156606    0.273  1996        0.0113   \n",
              "\n",
              "                                               artists  danceability   \n",
              "156602                      [\"Lil' Kim\", \"Lil' Cease\"]         0.748  \\\n",
              "156603                            [\"Lil' Flip\", 'Lea']         0.814   \n",
              "156604  [\"Ol' Dirty Bastard\", 'Kelis', 'Rich Travali']         0.934   \n",
              "156605      [\"World Class Wreckin' Cru\", \"Michel 'Le\"]         0.715   \n",
              "156606      [\"Rappin' 4-Tay\", 'MC Breed', 'Too $hort']         0.897   \n",
              "\n",
              "        duration_ms  energy  explicit                      id   \n",
              "156602       275947   0.693         0  2LP2uDQQ7eLMcUVE4aOpAV  \\\n",
              "156603       225173   0.387         1  4s0o8TJHfX9LLHa0umnOzT   \n",
              "156604       239547   0.459         1  6YYd5MLpu45J0uLrMdivF7   \n",
              "156605       351040   0.490         0  3hoiinUc5VA9xUEJID7R8V   \n",
              "156606       337973   0.414         1  78859Af0fmA9VTlgnOHTAP   \n",
              "\n",
              "        instrumentalness  ...                                     name   \n",
              "156602           0.00000  ...  Crush on You (feat. Lil' Cease) - Remix  \\\n",
              "156603           0.00000  ...                     Sunshine (feat. Lea)   \n",
              "156604           0.00000  ...             Got Your Money (feat. Kelis)   \n",
              "156605           0.00017  ...                Turn Off The Lights - Rap   \n",
              "156606           0.00011  ...                          Never Talk Down   \n",
              "\n",
              "        popularity  release_date  speechiness    tempo   \n",
              "156602          56    1997-06-30       0.2780   88.802  \\\n",
              "156603          62    2004-03-30       0.0945   93.961   \n",
              "156604          66          1999       0.1890  103.040   \n",
              "156605          36    1994-04-06       0.0479  129.309   \n",
              "156606          35          1996       0.2460   96.039   \n",
              "\n",
              "                 artists_upd_v1                          artists_upd_v2   \n",
              "156602            [ Kim\", \"Lil]                  [Lil' Kim, Lil' Cease]  \\\n",
              "156603               [ Flip\", ]                             [Lil' Flip]   \n",
              "156604  [ Dirty Bastard\", , , ]                     [Ol' Dirty Bastard]   \n",
              "156605        [ Cru\", \"Michel ]  [World Class Wreckin' Cru, Michel 'Le]   \n",
              "156606          [ 4-Tay\", , , ]                         [Rappin' 4-Tay]   \n",
              "\n",
              "                    artists_upd   \n",
              "156602            [ Kim\", \"Lil]  \\\n",
              "156603               [ Flip\", ]   \n",
              "156604  [ Dirty Bastard\", , , ]   \n",
              "156605        [ Cru\", \"Michel ]   \n",
              "156606          [ 4-Tay\", , , ]   \n",
              "\n",
              "                                             artists_song   \n",
              "156602   Kim\", \"LilCrush on You (feat. Lil' Cease) - R...  \\\n",
              "156603                        Flip\", Sunshine (feat. Lea)   \n",
              "156604       Dirty Bastard\", Got Your Money (feat. Kelis)   \n",
              "156605            Cru\", \"Michel Turn Off The Lights - Rap   \n",
              "156606                            4-Tay\", Never Talk Down   \n",
              "\n",
              "       consolidates_genre_lists  \n",
              "156602                      NaN  \n",
              "156603                      NaN  \n",
              "156604                      NaN  \n",
              "156605                      NaN  \n",
              "156606                      NaN  \n",
              "\n",
              "[5 rows x 24 columns]"
            ],
            "text/html": [
              "<div>\n",
              "<style scoped>\n",
              "    .dataframe tbody tr th:only-of-type {\n",
              "        vertical-align: middle;\n",
              "    }\n",
              "\n",
              "    .dataframe tbody tr th {\n",
              "        vertical-align: top;\n",
              "    }\n",
              "\n",
              "    .dataframe thead th {\n",
              "        text-align: right;\n",
              "    }\n",
              "</style>\n",
              "<table border=\"1\" class=\"dataframe\">\n",
              "  <thead>\n",
              "    <tr style=\"text-align: right;\">\n",
              "      <th></th>\n",
              "      <th>valence</th>\n",
              "      <th>year</th>\n",
              "      <th>acousticness</th>\n",
              "      <th>artists</th>\n",
              "      <th>danceability</th>\n",
              "      <th>duration_ms</th>\n",
              "      <th>energy</th>\n",
              "      <th>explicit</th>\n",
              "      <th>id</th>\n",
              "      <th>instrumentalness</th>\n",
              "      <th>...</th>\n",
              "      <th>name</th>\n",
              "      <th>popularity</th>\n",
              "      <th>release_date</th>\n",
              "      <th>speechiness</th>\n",
              "      <th>tempo</th>\n",
              "      <th>artists_upd_v1</th>\n",
              "      <th>artists_upd_v2</th>\n",
              "      <th>artists_upd</th>\n",
              "      <th>artists_song</th>\n",
              "      <th>consolidates_genre_lists</th>\n",
              "    </tr>\n",
              "  </thead>\n",
              "  <tbody>\n",
              "    <tr>\n",
              "      <th>156602</th>\n",
              "      <td>0.768</td>\n",
              "      <td>1997</td>\n",
              "      <td>0.2820</td>\n",
              "      <td>[\"Lil' Kim\", \"Lil' Cease\"]</td>\n",
              "      <td>0.748</td>\n",
              "      <td>275947</td>\n",
              "      <td>0.693</td>\n",
              "      <td>0</td>\n",
              "      <td>2LP2uDQQ7eLMcUVE4aOpAV</td>\n",
              "      <td>0.00000</td>\n",
              "      <td>...</td>\n",
              "      <td>Crush on You (feat. Lil' Cease) - Remix</td>\n",
              "      <td>56</td>\n",
              "      <td>1997-06-30</td>\n",
              "      <td>0.2780</td>\n",
              "      <td>88.802</td>\n",
              "      <td>[ Kim\", \"Lil]</td>\n",
              "      <td>[Lil' Kim, Lil' Cease]</td>\n",
              "      <td>[ Kim\", \"Lil]</td>\n",
              "      <td>Kim\", \"LilCrush on You (feat. Lil' Cease) - R...</td>\n",
              "      <td>NaN</td>\n",
              "    </tr>\n",
              "    <tr>\n",
              "      <th>156603</th>\n",
              "      <td>0.792</td>\n",
              "      <td>2004</td>\n",
              "      <td>0.0248</td>\n",
              "      <td>[\"Lil' Flip\", 'Lea']</td>\n",
              "      <td>0.814</td>\n",
              "      <td>225173</td>\n",
              "      <td>0.387</td>\n",
              "      <td>1</td>\n",
              "      <td>4s0o8TJHfX9LLHa0umnOzT</td>\n",
              "      <td>0.00000</td>\n",
              "      <td>...</td>\n",
              "      <td>Sunshine (feat. Lea)</td>\n",
              "      <td>62</td>\n",
              "      <td>2004-03-30</td>\n",
              "      <td>0.0945</td>\n",
              "      <td>93.961</td>\n",
              "      <td>[ Flip\", ]</td>\n",
              "      <td>[Lil' Flip]</td>\n",
              "      <td>[ Flip\", ]</td>\n",
              "      <td>Flip\", Sunshine (feat. Lea)</td>\n",
              "      <td>NaN</td>\n",
              "    </tr>\n",
              "    <tr>\n",
              "      <th>156604</th>\n",
              "      <td>0.697</td>\n",
              "      <td>1999</td>\n",
              "      <td>0.0516</td>\n",
              "      <td>[\"Ol' Dirty Bastard\", 'Kelis', 'Rich Travali']</td>\n",
              "      <td>0.934</td>\n",
              "      <td>239547</td>\n",
              "      <td>0.459</td>\n",
              "      <td>1</td>\n",
              "      <td>6YYd5MLpu45J0uLrMdivF7</td>\n",
              "      <td>0.00000</td>\n",
              "      <td>...</td>\n",
              "      <td>Got Your Money (feat. Kelis)</td>\n",
              "      <td>66</td>\n",
              "      <td>1999</td>\n",
              "      <td>0.1890</td>\n",
              "      <td>103.040</td>\n",
              "      <td>[ Dirty Bastard\", , , ]</td>\n",
              "      <td>[Ol' Dirty Bastard]</td>\n",
              "      <td>[ Dirty Bastard\", , , ]</td>\n",
              "      <td>Dirty Bastard\", Got Your Money (feat. Kelis)</td>\n",
              "      <td>NaN</td>\n",
              "    </tr>\n",
              "    <tr>\n",
              "      <th>156605</th>\n",
              "      <td>0.429</td>\n",
              "      <td>1994</td>\n",
              "      <td>0.0249</td>\n",
              "      <td>[\"World Class Wreckin' Cru\", \"Michel 'Le\"]</td>\n",
              "      <td>0.715</td>\n",
              "      <td>351040</td>\n",
              "      <td>0.490</td>\n",
              "      <td>0</td>\n",
              "      <td>3hoiinUc5VA9xUEJID7R8V</td>\n",
              "      <td>0.00017</td>\n",
              "      <td>...</td>\n",
              "      <td>Turn Off The Lights - Rap</td>\n",
              "      <td>36</td>\n",
              "      <td>1994-04-06</td>\n",
              "      <td>0.0479</td>\n",
              "      <td>129.309</td>\n",
              "      <td>[ Cru\", \"Michel ]</td>\n",
              "      <td>[World Class Wreckin' Cru, Michel 'Le]</td>\n",
              "      <td>[ Cru\", \"Michel ]</td>\n",
              "      <td>Cru\", \"Michel Turn Off The Lights - Rap</td>\n",
              "      <td>NaN</td>\n",
              "    </tr>\n",
              "    <tr>\n",
              "      <th>156606</th>\n",
              "      <td>0.273</td>\n",
              "      <td>1996</td>\n",
              "      <td>0.0113</td>\n",
              "      <td>[\"Rappin' 4-Tay\", 'MC Breed', 'Too $hort']</td>\n",
              "      <td>0.897</td>\n",
              "      <td>337973</td>\n",
              "      <td>0.414</td>\n",
              "      <td>1</td>\n",
              "      <td>78859Af0fmA9VTlgnOHTAP</td>\n",
              "      <td>0.00011</td>\n",
              "      <td>...</td>\n",
              "      <td>Never Talk Down</td>\n",
              "      <td>35</td>\n",
              "      <td>1996</td>\n",
              "      <td>0.2460</td>\n",
              "      <td>96.039</td>\n",
              "      <td>[ 4-Tay\", , , ]</td>\n",
              "      <td>[Rappin' 4-Tay]</td>\n",
              "      <td>[ 4-Tay\", , , ]</td>\n",
              "      <td>4-Tay\", Never Talk Down</td>\n",
              "      <td>NaN</td>\n",
              "    </tr>\n",
              "  </tbody>\n",
              "</table>\n",
              "<p>5 rows × 24 columns</p>\n",
              "</div>"
            ]
          },
          "metadata": {},
          "execution_count": 60
        }
      ]
    },
    {
      "cell_type": "code",
      "source": [
        "spotify_df['year'] = spotify_df['release_date'].apply(lambda x: x.split('-')[0])"
      ],
      "metadata": {
        "id": "bus6VQCRfBv4"
      },
      "execution_count": null,
      "outputs": []
    },
    {
      "cell_type": "code",
      "source": [
        "float_cols = spotify_df.dtypes[spotify_df.dtypes == 'float64'].index.values"
      ],
      "metadata": {
        "id": "UEbFoM2UfFAo"
      },
      "execution_count": null,
      "outputs": []
    },
    {
      "cell_type": "code",
      "source": [
        "ohe_cols = 'popularity'"
      ],
      "metadata": {
        "id": "ZeVNNprlfHWI"
      },
      "execution_count": null,
      "outputs": []
    },
    {
      "cell_type": "code",
      "source": [
        "spotify_df['popularity'].describe()"
      ],
      "metadata": {
        "colab": {
          "base_uri": "https://localhost:8080/"
        },
        "id": "oHcJeSSTfJNK",
        "outputId": "35ba9937-7458-4a75-8407-3276f05c7a96"
      },
      "execution_count": null,
      "outputs": [
        {
          "output_type": "execute_result",
          "data": {
            "text/plain": [
              "count    156607.000000\n",
              "mean         31.307215\n",
              "std          21.712234\n",
              "min           0.000000\n",
              "25%          11.000000\n",
              "50%          33.000000\n",
              "75%          48.000000\n",
              "max         100.000000\n",
              "Name: popularity, dtype: float64"
            ]
          },
          "metadata": {},
          "execution_count": 64
        }
      ]
    },
    {
      "cell_type": "code",
      "source": [
        "spotify_df['popularity_red'] = spotify_df['popularity'].apply(lambda x: int(x/5))"
      ],
      "metadata": {
        "id": "aq9j2gxafLg8"
      },
      "execution_count": null,
      "outputs": []
    },
    {
      "cell_type": "code",
      "source": [
        "spotify_df['consolidates_genre_lists'] = spotify_df['consolidates_genre_lists'].apply(lambda d: d if isinstance(d, list) else [])"
      ],
      "metadata": {
        "id": "IWIoq0Sqfim3"
      },
      "execution_count": null,
      "outputs": []
    },
    {
      "cell_type": "code",
      "source": [
        "spotify_df.head()"
      ],
      "metadata": {
        "colab": {
          "base_uri": "https://localhost:8080/",
          "height": 325
        },
        "id": "Qxjnn_NAfl-Q",
        "outputId": "2c24923b-df9b-4e7e-a895-ecd084284b2b"
      },
      "execution_count": null,
      "outputs": [
        {
          "output_type": "execute_result",
          "data": {
            "text/plain": [
              "   valence  year  acousticness         artists  danceability  duration_ms   \n",
              "0    0.177  1989         0.568         ['조정현']         0.447       237688  \\\n",
              "1    0.352  1992         0.381          ['黑豹']         0.353       316160   \n",
              "2    0.458  1963         0.987         ['黃國隆']         0.241       193480   \n",
              "3    0.796  1963         0.852  ['黃國隆', '王秋玉']         0.711       145720   \n",
              "4    0.704  1963         0.771         ['黃國隆']         0.610       208760   \n",
              "\n",
              "   energy  explicit                      id  instrumentalness  ...   \n",
              "0  0.2150         0  2ghebdwe2pNXT4eL34T7pW          0.000001  ...  \\\n",
              "1  0.6860         0  3KIuCzckjdeeVuswPo20mC          0.000000  ...   \n",
              "2  0.0437         0  4prhqrLXYMjHJ6vpRAlasx          0.000453  ...   \n",
              "3  0.1110         0  5xFXTvnEe03SyvFpo6pEaE          0.000000  ...   \n",
              "4  0.1750         0  6Pqs2suXEqCGx7Lxg5dlrB          0.000000  ...   \n",
              "\n",
              "   popularity  release_date  speechiness    tempo artists_upd_v1   \n",
              "0          31    1989-06-15       0.0272   71.979          [조정현]  \\\n",
              "1          35    1992-12-22       0.0395  200.341           [黑豹]   \n",
              "2          23    1963-05-28       0.0443   85.936          [黃國隆]   \n",
              "3          23    1963-05-28       0.0697  124.273     [黃國隆, 王秋玉]   \n",
              "4          23    1963-05-28       0.0419  124.662          [黃國隆]   \n",
              "\n",
              "   artists_upd_v2 artists_upd            artists_song   \n",
              "0              []       [조정현]           조정현그아픔까지사랑한거야  \\\n",
              "1              []        [黑豹]  黑豹DON'T BREAK MY HEART   \n",
              "2              []       [黃國隆]                  黃國隆藝旦調   \n",
              "3              []  [黃國隆, 王秋玉]                黃國隆草螟弄雞公   \n",
              "4              []       [黃國隆]                  黃國隆思想起   \n",
              "\n",
              "              consolidates_genre_lists popularity_red  \n",
              "0                 [classic_korean_pop]              6  \n",
              "1  [chinese_indie, chinese_indie_rock]              7  \n",
              "2                                   []              4  \n",
              "3                                   []              4  \n",
              "4                                   []              4  \n",
              "\n",
              "[5 rows x 25 columns]"
            ],
            "text/html": [
              "<div>\n",
              "<style scoped>\n",
              "    .dataframe tbody tr th:only-of-type {\n",
              "        vertical-align: middle;\n",
              "    }\n",
              "\n",
              "    .dataframe tbody tr th {\n",
              "        vertical-align: top;\n",
              "    }\n",
              "\n",
              "    .dataframe thead th {\n",
              "        text-align: right;\n",
              "    }\n",
              "</style>\n",
              "<table border=\"1\" class=\"dataframe\">\n",
              "  <thead>\n",
              "    <tr style=\"text-align: right;\">\n",
              "      <th></th>\n",
              "      <th>valence</th>\n",
              "      <th>year</th>\n",
              "      <th>acousticness</th>\n",
              "      <th>artists</th>\n",
              "      <th>danceability</th>\n",
              "      <th>duration_ms</th>\n",
              "      <th>energy</th>\n",
              "      <th>explicit</th>\n",
              "      <th>id</th>\n",
              "      <th>instrumentalness</th>\n",
              "      <th>...</th>\n",
              "      <th>popularity</th>\n",
              "      <th>release_date</th>\n",
              "      <th>speechiness</th>\n",
              "      <th>tempo</th>\n",
              "      <th>artists_upd_v1</th>\n",
              "      <th>artists_upd_v2</th>\n",
              "      <th>artists_upd</th>\n",
              "      <th>artists_song</th>\n",
              "      <th>consolidates_genre_lists</th>\n",
              "      <th>popularity_red</th>\n",
              "    </tr>\n",
              "  </thead>\n",
              "  <tbody>\n",
              "    <tr>\n",
              "      <th>0</th>\n",
              "      <td>0.177</td>\n",
              "      <td>1989</td>\n",
              "      <td>0.568</td>\n",
              "      <td>['조정현']</td>\n",
              "      <td>0.447</td>\n",
              "      <td>237688</td>\n",
              "      <td>0.2150</td>\n",
              "      <td>0</td>\n",
              "      <td>2ghebdwe2pNXT4eL34T7pW</td>\n",
              "      <td>0.000001</td>\n",
              "      <td>...</td>\n",
              "      <td>31</td>\n",
              "      <td>1989-06-15</td>\n",
              "      <td>0.0272</td>\n",
              "      <td>71.979</td>\n",
              "      <td>[조정현]</td>\n",
              "      <td>[]</td>\n",
              "      <td>[조정현]</td>\n",
              "      <td>조정현그아픔까지사랑한거야</td>\n",
              "      <td>[classic_korean_pop]</td>\n",
              "      <td>6</td>\n",
              "    </tr>\n",
              "    <tr>\n",
              "      <th>1</th>\n",
              "      <td>0.352</td>\n",
              "      <td>1992</td>\n",
              "      <td>0.381</td>\n",
              "      <td>['黑豹']</td>\n",
              "      <td>0.353</td>\n",
              "      <td>316160</td>\n",
              "      <td>0.6860</td>\n",
              "      <td>0</td>\n",
              "      <td>3KIuCzckjdeeVuswPo20mC</td>\n",
              "      <td>0.000000</td>\n",
              "      <td>...</td>\n",
              "      <td>35</td>\n",
              "      <td>1992-12-22</td>\n",
              "      <td>0.0395</td>\n",
              "      <td>200.341</td>\n",
              "      <td>[黑豹]</td>\n",
              "      <td>[]</td>\n",
              "      <td>[黑豹]</td>\n",
              "      <td>黑豹DON'T BREAK MY HEART</td>\n",
              "      <td>[chinese_indie, chinese_indie_rock]</td>\n",
              "      <td>7</td>\n",
              "    </tr>\n",
              "    <tr>\n",
              "      <th>2</th>\n",
              "      <td>0.458</td>\n",
              "      <td>1963</td>\n",
              "      <td>0.987</td>\n",
              "      <td>['黃國隆']</td>\n",
              "      <td>0.241</td>\n",
              "      <td>193480</td>\n",
              "      <td>0.0437</td>\n",
              "      <td>0</td>\n",
              "      <td>4prhqrLXYMjHJ6vpRAlasx</td>\n",
              "      <td>0.000453</td>\n",
              "      <td>...</td>\n",
              "      <td>23</td>\n",
              "      <td>1963-05-28</td>\n",
              "      <td>0.0443</td>\n",
              "      <td>85.936</td>\n",
              "      <td>[黃國隆]</td>\n",
              "      <td>[]</td>\n",
              "      <td>[黃國隆]</td>\n",
              "      <td>黃國隆藝旦調</td>\n",
              "      <td>[]</td>\n",
              "      <td>4</td>\n",
              "    </tr>\n",
              "    <tr>\n",
              "      <th>3</th>\n",
              "      <td>0.796</td>\n",
              "      <td>1963</td>\n",
              "      <td>0.852</td>\n",
              "      <td>['黃國隆', '王秋玉']</td>\n",
              "      <td>0.711</td>\n",
              "      <td>145720</td>\n",
              "      <td>0.1110</td>\n",
              "      <td>0</td>\n",
              "      <td>5xFXTvnEe03SyvFpo6pEaE</td>\n",
              "      <td>0.000000</td>\n",
              "      <td>...</td>\n",
              "      <td>23</td>\n",
              "      <td>1963-05-28</td>\n",
              "      <td>0.0697</td>\n",
              "      <td>124.273</td>\n",
              "      <td>[黃國隆, 王秋玉]</td>\n",
              "      <td>[]</td>\n",
              "      <td>[黃國隆, 王秋玉]</td>\n",
              "      <td>黃國隆草螟弄雞公</td>\n",
              "      <td>[]</td>\n",
              "      <td>4</td>\n",
              "    </tr>\n",
              "    <tr>\n",
              "      <th>4</th>\n",
              "      <td>0.704</td>\n",
              "      <td>1963</td>\n",
              "      <td>0.771</td>\n",
              "      <td>['黃國隆']</td>\n",
              "      <td>0.610</td>\n",
              "      <td>208760</td>\n",
              "      <td>0.1750</td>\n",
              "      <td>0</td>\n",
              "      <td>6Pqs2suXEqCGx7Lxg5dlrB</td>\n",
              "      <td>0.000000</td>\n",
              "      <td>...</td>\n",
              "      <td>23</td>\n",
              "      <td>1963-05-28</td>\n",
              "      <td>0.0419</td>\n",
              "      <td>124.662</td>\n",
              "      <td>[黃國隆]</td>\n",
              "      <td>[]</td>\n",
              "      <td>[黃國隆]</td>\n",
              "      <td>黃國隆思想起</td>\n",
              "      <td>[]</td>\n",
              "      <td>4</td>\n",
              "    </tr>\n",
              "  </tbody>\n",
              "</table>\n",
              "<p>5 rows × 25 columns</p>\n",
              "</div>"
            ]
          },
          "metadata": {},
          "execution_count": 67
        }
      ]
    },
    {
      "cell_type": "code",
      "source": [
        "def getSubjectivity(text):\n",
        "  '''\n",
        "  Getting the Subjectivity using TextBlob\n",
        "  '''\n",
        "  return TextBlob(text).sentiment.subjectivity\n",
        "\n",
        "def getPolarity(text):\n",
        "  '''\n",
        "  Getting the Polarity using TextBlob\n",
        "  '''\n",
        "  return TextBlob(text).sentiment.polarity\n",
        "\n",
        "def getAnalysis(score, task=\"polarity\"):\n",
        "  '''\n",
        "  Categorizing the Polarity & Subjectivity score\n",
        "  '''\n",
        "  if task == \"subjectivity\":\n",
        "    if score < 1/3:\n",
        "      return \"low\"\n",
        "    elif score > 1/3:\n",
        "      return \"high\"\n",
        "    else:\n",
        "      return \"medium\"\n",
        "  else:\n",
        "    if score < 0:\n",
        "      return 'Negative'\n",
        "    elif score == 0:\n",
        "      return 'Neutral'\n",
        "    else:\n",
        "      return 'Positive'\n",
        "\n",
        "def sentiment_analysis(df, text_col):\n",
        "  '''\n",
        "  Perform sentiment analysis on text\n",
        "  ---\n",
        "  Input:\n",
        "  df (pandas dataframe): Dataframe of interest\n",
        "  text_col (str): column of interest\n",
        "  '''\n",
        "  spotify_df['subjectivity'] = spotify_df[text_col].apply(getSubjectivity).apply(lambda x: getAnalysis(x,\"subjectivity\"))\n",
        "  spotify_df['polarity'] = spotify_df[text_col].apply(getPolarity).apply(getAnalysis)\n",
        "  return df\n"
      ],
      "metadata": {
        "id": "RHoDv6KBQ-vS"
      },
      "execution_count": null,
      "outputs": []
    },
    {
      "cell_type": "code",
      "source": [
        "def ohe_prep(df, column, new_name):\n",
        "    \"\"\"\n",
        "    Create One Hot Encoded features of a specific column\n",
        "\n",
        "    Parameters:\n",
        "        df (pandas dataframe): Spotify Dataframe\n",
        "        column (str): Column to be processed\n",
        "        new_name (str): new column name to be used\n",
        "\n",
        "    Returns:\n",
        "        tf_df: One hot encoded features\n",
        "    \"\"\"\n",
        "\n",
        "    tf_df = pd.get_dummies(df[column])\n",
        "    feature_names = tf_df.columns\n",
        "    tf_df.columns = [new_name + \"|\" + str(i) for i in feature_names]\n",
        "    tf_df.reset_index(drop = True, inplace = True)\n",
        "    return tf_df\n"
      ],
      "metadata": {
        "id": "Y2lSjvsDfr9R"
      },
      "execution_count": null,
      "outputs": []
    },
    {
      "cell_type": "markdown",
      "source": [
        "# tf-idf"
      ],
      "metadata": {
        "id": "awnewwAffx1Q"
      }
    },
    {
      "cell_type": "code",
      "source": [
        "def create_feature_set(df, float_cols):\n",
        "    \"\"\"\n",
        "    Process spotify df to create a final set of features that will be used to generate recommendations\n",
        "\n",
        "    Parameters:\n",
        "        df (pandas dataframe): Spotify Dataframe\n",
        "        float_cols (list(str)): List of float columns that will be scaled\n",
        "\n",
        "    Returns:\n",
        "        final: final set of features\n",
        "    \"\"\"\n",
        "\n",
        "    #tfidf genre lists\n",
        "    tfidf = TfidfVectorizer()\n",
        "    tfidf_matrix =  tfidf.fit_transform(df['consolidates_genre_lists'].apply(lambda x: \" \".join(x)))\n",
        "    genre_df = pd.DataFrame(tfidf_matrix.toarray())\n",
        "    genre_df.columns = ['genre' + \"|\" + i for i in tfidf.get_feature_names_out()]\n",
        "    genre_df.reset_index(drop = True, inplace=True)\n",
        "\n",
        "    #explicity_ohe = ohe_prep(df, 'explicit','exp')\n",
        "    year_ohe = ohe_prep(df, 'year','year') * 0.5\n",
        "    popularity_ohe = ohe_prep(df, 'popularity_red','pop') * 0.15\n",
        "\n",
        "    #scale float columns\n",
        "    floats = df[float_cols].reset_index(drop = True)\n",
        "    scaler = MinMaxScaler()\n",
        "    floats_scaled = pd.DataFrame(scaler.fit_transform(floats), columns = floats.columns) * 0.2\n",
        "\n",
        "    #concanenate all features\n",
        "    final = pd.concat([genre_df, floats_scaled, popularity_ohe, year_ohe], axis = 1)\n",
        "\n",
        "    #add song id\n",
        "    final['id']=df['id'].values\n",
        "\n",
        "    return final"
      ],
      "metadata": {
        "id": "z-vR9UcDfyRx"
      },
      "execution_count": null,
      "outputs": []
    },
    {
      "cell_type": "code",
      "source": [
        "complete_feature_set = create_feature_set(spotify_df, float_cols = float_cols)"
      ],
      "metadata": {
        "id": "BMUbglevgP_2"
      },
      "execution_count": null,
      "outputs": []
    },
    {
      "cell_type": "code",
      "source": [
        "complete_feature_set.head()"
      ],
      "metadata": {
        "colab": {
          "base_uri": "https://localhost:8080/",
          "height": 256
        },
        "id": "BUe_k-7ugoWP",
        "outputId": "de49a93d-d63e-42cc-dbfa-e6fcfa443b08"
      },
      "execution_count": null,
      "outputs": [
        {
          "output_type": "execute_result",
          "data": {
            "text/plain": [
              "   genre|21st_century_classical  genre|432hz  genre|_hip_hop   \n",
              "0                           0.0          0.0             0.0  \\\n",
              "1                           0.0          0.0             0.0   \n",
              "2                           0.0          0.0             0.0   \n",
              "3                           0.0          0.0             0.0   \n",
              "4                           0.0          0.0             0.0   \n",
              "\n",
              "   genre|a_cappella  genre|abstract  genre|abstract_beats   \n",
              "0               0.0             0.0                   0.0  \\\n",
              "1               0.0             0.0                   0.0   \n",
              "2               0.0             0.0                   0.0   \n",
              "3               0.0             0.0                   0.0   \n",
              "4               0.0             0.0                   0.0   \n",
              "\n",
              "   genre|abstract_hip_hop  genre|accordeon  genre|accordion  genre|acid_house   \n",
              "0                     0.0              0.0              0.0               0.0  \\\n",
              "1                     0.0              0.0              0.0               0.0   \n",
              "2                     0.0              0.0              0.0               0.0   \n",
              "3                     0.0              0.0              0.0               0.0   \n",
              "4                     0.0              0.0              0.0               0.0   \n",
              "\n",
              "   ...  year|2012  year|2013  year|2014  year|2015  year|2016  year|2017   \n",
              "0  ...        0.0        0.0        0.0        0.0        0.0        0.0  \\\n",
              "1  ...        0.0        0.0        0.0        0.0        0.0        0.0   \n",
              "2  ...        0.0        0.0        0.0        0.0        0.0        0.0   \n",
              "3  ...        0.0        0.0        0.0        0.0        0.0        0.0   \n",
              "4  ...        0.0        0.0        0.0        0.0        0.0        0.0   \n",
              "\n",
              "   year|2018  year|2019  year|2020                      id  \n",
              "0        0.0        0.0        0.0  2ghebdwe2pNXT4eL34T7pW  \n",
              "1        0.0        0.0        0.0  3KIuCzckjdeeVuswPo20mC  \n",
              "2        0.0        0.0        0.0  4prhqrLXYMjHJ6vpRAlasx  \n",
              "3        0.0        0.0        0.0  5xFXTvnEe03SyvFpo6pEaE  \n",
              "4        0.0        0.0        0.0  6Pqs2suXEqCGx7Lxg5dlrB  \n",
              "\n",
              "[5 rows x 3071 columns]"
            ],
            "text/html": [
              "<div>\n",
              "<style scoped>\n",
              "    .dataframe tbody tr th:only-of-type {\n",
              "        vertical-align: middle;\n",
              "    }\n",
              "\n",
              "    .dataframe tbody tr th {\n",
              "        vertical-align: top;\n",
              "    }\n",
              "\n",
              "    .dataframe thead th {\n",
              "        text-align: right;\n",
              "    }\n",
              "</style>\n",
              "<table border=\"1\" class=\"dataframe\">\n",
              "  <thead>\n",
              "    <tr style=\"text-align: right;\">\n",
              "      <th></th>\n",
              "      <th>genre|21st_century_classical</th>\n",
              "      <th>genre|432hz</th>\n",
              "      <th>genre|_hip_hop</th>\n",
              "      <th>genre|a_cappella</th>\n",
              "      <th>genre|abstract</th>\n",
              "      <th>genre|abstract_beats</th>\n",
              "      <th>genre|abstract_hip_hop</th>\n",
              "      <th>genre|accordeon</th>\n",
              "      <th>genre|accordion</th>\n",
              "      <th>genre|acid_house</th>\n",
              "      <th>...</th>\n",
              "      <th>year|2012</th>\n",
              "      <th>year|2013</th>\n",
              "      <th>year|2014</th>\n",
              "      <th>year|2015</th>\n",
              "      <th>year|2016</th>\n",
              "      <th>year|2017</th>\n",
              "      <th>year|2018</th>\n",
              "      <th>year|2019</th>\n",
              "      <th>year|2020</th>\n",
              "      <th>id</th>\n",
              "    </tr>\n",
              "  </thead>\n",
              "  <tbody>\n",
              "    <tr>\n",
              "      <th>0</th>\n",
              "      <td>0.0</td>\n",
              "      <td>0.0</td>\n",
              "      <td>0.0</td>\n",
              "      <td>0.0</td>\n",
              "      <td>0.0</td>\n",
              "      <td>0.0</td>\n",
              "      <td>0.0</td>\n",
              "      <td>0.0</td>\n",
              "      <td>0.0</td>\n",
              "      <td>0.0</td>\n",
              "      <td>...</td>\n",
              "      <td>0.0</td>\n",
              "      <td>0.0</td>\n",
              "      <td>0.0</td>\n",
              "      <td>0.0</td>\n",
              "      <td>0.0</td>\n",
              "      <td>0.0</td>\n",
              "      <td>0.0</td>\n",
              "      <td>0.0</td>\n",
              "      <td>0.0</td>\n",
              "      <td>2ghebdwe2pNXT4eL34T7pW</td>\n",
              "    </tr>\n",
              "    <tr>\n",
              "      <th>1</th>\n",
              "      <td>0.0</td>\n",
              "      <td>0.0</td>\n",
              "      <td>0.0</td>\n",
              "      <td>0.0</td>\n",
              "      <td>0.0</td>\n",
              "      <td>0.0</td>\n",
              "      <td>0.0</td>\n",
              "      <td>0.0</td>\n",
              "      <td>0.0</td>\n",
              "      <td>0.0</td>\n",
              "      <td>...</td>\n",
              "      <td>0.0</td>\n",
              "      <td>0.0</td>\n",
              "      <td>0.0</td>\n",
              "      <td>0.0</td>\n",
              "      <td>0.0</td>\n",
              "      <td>0.0</td>\n",
              "      <td>0.0</td>\n",
              "      <td>0.0</td>\n",
              "      <td>0.0</td>\n",
              "      <td>3KIuCzckjdeeVuswPo20mC</td>\n",
              "    </tr>\n",
              "    <tr>\n",
              "      <th>2</th>\n",
              "      <td>0.0</td>\n",
              "      <td>0.0</td>\n",
              "      <td>0.0</td>\n",
              "      <td>0.0</td>\n",
              "      <td>0.0</td>\n",
              "      <td>0.0</td>\n",
              "      <td>0.0</td>\n",
              "      <td>0.0</td>\n",
              "      <td>0.0</td>\n",
              "      <td>0.0</td>\n",
              "      <td>...</td>\n",
              "      <td>0.0</td>\n",
              "      <td>0.0</td>\n",
              "      <td>0.0</td>\n",
              "      <td>0.0</td>\n",
              "      <td>0.0</td>\n",
              "      <td>0.0</td>\n",
              "      <td>0.0</td>\n",
              "      <td>0.0</td>\n",
              "      <td>0.0</td>\n",
              "      <td>4prhqrLXYMjHJ6vpRAlasx</td>\n",
              "    </tr>\n",
              "    <tr>\n",
              "      <th>3</th>\n",
              "      <td>0.0</td>\n",
              "      <td>0.0</td>\n",
              "      <td>0.0</td>\n",
              "      <td>0.0</td>\n",
              "      <td>0.0</td>\n",
              "      <td>0.0</td>\n",
              "      <td>0.0</td>\n",
              "      <td>0.0</td>\n",
              "      <td>0.0</td>\n",
              "      <td>0.0</td>\n",
              "      <td>...</td>\n",
              "      <td>0.0</td>\n",
              "      <td>0.0</td>\n",
              "      <td>0.0</td>\n",
              "      <td>0.0</td>\n",
              "      <td>0.0</td>\n",
              "      <td>0.0</td>\n",
              "      <td>0.0</td>\n",
              "      <td>0.0</td>\n",
              "      <td>0.0</td>\n",
              "      <td>5xFXTvnEe03SyvFpo6pEaE</td>\n",
              "    </tr>\n",
              "    <tr>\n",
              "      <th>4</th>\n",
              "      <td>0.0</td>\n",
              "      <td>0.0</td>\n",
              "      <td>0.0</td>\n",
              "      <td>0.0</td>\n",
              "      <td>0.0</td>\n",
              "      <td>0.0</td>\n",
              "      <td>0.0</td>\n",
              "      <td>0.0</td>\n",
              "      <td>0.0</td>\n",
              "      <td>0.0</td>\n",
              "      <td>...</td>\n",
              "      <td>0.0</td>\n",
              "      <td>0.0</td>\n",
              "      <td>0.0</td>\n",
              "      <td>0.0</td>\n",
              "      <td>0.0</td>\n",
              "      <td>0.0</td>\n",
              "      <td>0.0</td>\n",
              "      <td>0.0</td>\n",
              "      <td>0.0</td>\n",
              "      <td>6Pqs2suXEqCGx7Lxg5dlrB</td>\n",
              "    </tr>\n",
              "  </tbody>\n",
              "</table>\n",
              "<p>5 rows × 3071 columns</p>\n",
              "</div>"
            ]
          },
          "metadata": {},
          "execution_count": 72
        }
      ]
    },
    {
      "cell_type": "markdown",
      "source": [
        "# Recommendation system"
      ],
      "metadata": {
        "id": "HlXDg3UihbXx"
      }
    },
    {
      "cell_type": "code",
      "metadata": {
        "id": "wzN9luVkSZV2"
      },
      "source": [
        "from fastai.collab import *\n",
        "from fastai.tabular import *\n",
        "import pandas as pd\n",
        "import numpy as np\n",
        "import spotipy\n",
        "import spotipy.util as util\n",
        "from spotipy.oauth2 import SpotifyClientCredentials\n",
        "import spotipy.oauth2 as oauth2"
      ],
      "execution_count": null,
      "outputs": []
    },
    {
      "cell_type": "code",
      "metadata": {
        "id": "SE7Wb3x3TBHY"
      },
      "source": [
        "CLIENT_ID = 'client id'\n",
        "CLIENT_SECRET = 'secret id'\n",
        "username = 'username'\n",
        "#username =\n",
        "market = ['US']\n",
        "redirect_uri='http://localhost:8880/callback'"
      ],
      "execution_count": null,
      "outputs": []
    },
    {
      "cell_type": "code",
      "source": [
        "if len(sys.argv) > 1:\n",
        "    username = sys.argv[1]\n",
        "else:\n",
        "    print('Usage: %s {myusername}' % (sys.argv[0],))\n",
        "    sys.exit()\n"
      ],
      "metadata": {
        "id": "UQvYU3mD12m1"
      },
      "execution_count": null,
      "outputs": []
    },
    {
      "cell_type": "code",
      "metadata": {
        "id": "B7fpUzQDnCUj",
        "colab": {
          "base_uri": "https://localhost:8080/"
        },
        "outputId": "e7a55260-0b36-4066-b53a-d97e8bb9d14c"
      },
      "source": [
        "credentials = oauth2.SpotifyClientCredentials(CLIENT_ID, CLIENT_SECRET)\n",
        "\n",
        "token = credentials.get_access_token()\n",
        "spotify = spotipy.Spotify(auth=token)\n",
        "scope = 'user-library-read'\n",
        "open_browser=False\n",
        "#token = util.prompt_for_user_token(username, scope, CLIENT_ID, CLIENT_SECRET, redirect_uri)"
      ],
      "execution_count": null,
      "outputs": [
        {
          "output_type": "stream",
          "name": "stderr",
          "text": [
            "Couldn't read cache at: .cache\n",
            "Couldn't write token to cache at: .cache\n"
          ]
        }
      ]
    },
    {
      "cell_type": "code",
      "source": [
        "auth_manager = SpotifyClientCredentials(client_id=CLIENT_ID, client_secret=CLIENT_SECRET)\n",
        "sp = spotipy.Spotify(auth_manager=auth_manager)"
      ],
      "metadata": {
        "id": "brlo5vu79kLf"
      },
      "execution_count": null,
      "outputs": []
    },
    {
      "cell_type": "code",
      "source": [
        "sp = spotipy.Spotify(auth=token)"
      ],
      "metadata": {
        "id": "EH_PFMfTuN6p"
      },
      "execution_count": null,
      "outputs": []
    },
    {
      "cell_type": "code",
      "source": [
        "playlistDF_test = pd.read_csv(\"/content/drive/Shareddrives/spotify_music/test_playlist.csv\", on_bad_lines='skip')"
      ],
      "metadata": {
        "id": "PWMkxI5dWe4N"
      },
      "execution_count": null,
      "outputs": []
    },
    {
      "cell_type": "code",
      "source": [
        "def generate_playlist_feature(complete_feature_set, playlist_df):\n",
        "    '''\n",
        "    Summarize a user's playlist into a single vector\n",
        "    ---\n",
        "    Input:\n",
        "    complete_feature_set (pandas dataframe): Dataframe which includes all of the features for the spotify songs\n",
        "    playlist_df (pandas dataframe): playlist dataframe\n",
        "\n",
        "    Output:\n",
        "    complete_feature_set_playlist_final (pandas series): single vector feature that summarizes the playlist\n",
        "    complete_feature_set_nonplaylist (pandas dataframe):\n",
        "    '''\n",
        "\n",
        "    # Find song features in the playlist\n",
        "    complete_feature_set_playlist = complete_feature_set[complete_feature_set['id'].isin(playlist_df['id'].values)]\n",
        "    # Find all non-playlist song features\n",
        "    complete_feature_set_nonplaylist = complete_feature_set[~complete_feature_set['id'].isin(playlist_df['id'].values)]\n",
        "    complete_feature_set_playlist_final = complete_feature_set_playlist.drop(columns = \"id\")\n",
        "    return complete_feature_set_playlist_final.sum(axis = 0), complete_feature_set_nonplaylist\n"
      ],
      "metadata": {
        "id": "skp0d5hBW1QY"
      },
      "execution_count": null,
      "outputs": []
    },
    {
      "cell_type": "code",
      "source": [
        "complete_feature_set_playlist_vector, complete_feature_set_nonplaylist = generate_playlist_feature(complete_feature_set, playlistDF_test)"
      ],
      "metadata": {
        "id": "vkbUbpqFXzrb"
      },
      "execution_count": null,
      "outputs": []
    },
    {
      "cell_type": "code",
      "source": [
        "complete_feature_set_nonplaylist.head()"
      ],
      "metadata": {
        "id": "9SbS7b6BgBTh",
        "colab": {
          "base_uri": "https://localhost:8080/",
          "height": 256
        },
        "outputId": "f73b92dc-433e-49bc-c479-9b4a36a8eba5"
      },
      "execution_count": null,
      "outputs": [
        {
          "output_type": "execute_result",
          "data": {
            "text/plain": [
              "   genre|21st_century_classical  genre|432hz  genre|_hip_hop   \n",
              "0                           0.0          0.0             0.0  \\\n",
              "1                           0.0          0.0             0.0   \n",
              "2                           0.0          0.0             0.0   \n",
              "3                           0.0          0.0             0.0   \n",
              "4                           0.0          0.0             0.0   \n",
              "\n",
              "   genre|a_cappella  genre|abstract  genre|abstract_beats   \n",
              "0               0.0             0.0                   0.0  \\\n",
              "1               0.0             0.0                   0.0   \n",
              "2               0.0             0.0                   0.0   \n",
              "3               0.0             0.0                   0.0   \n",
              "4               0.0             0.0                   0.0   \n",
              "\n",
              "   genre|abstract_hip_hop  genre|accordeon  genre|accordion  genre|acid_house   \n",
              "0                     0.0              0.0              0.0               0.0  \\\n",
              "1                     0.0              0.0              0.0               0.0   \n",
              "2                     0.0              0.0              0.0               0.0   \n",
              "3                     0.0              0.0              0.0               0.0   \n",
              "4                     0.0              0.0              0.0               0.0   \n",
              "\n",
              "   ...  year|2012  year|2013  year|2014  year|2015  year|2016  year|2017   \n",
              "0  ...        0.0        0.0        0.0        0.0        0.0        0.0  \\\n",
              "1  ...        0.0        0.0        0.0        0.0        0.0        0.0   \n",
              "2  ...        0.0        0.0        0.0        0.0        0.0        0.0   \n",
              "3  ...        0.0        0.0        0.0        0.0        0.0        0.0   \n",
              "4  ...        0.0        0.0        0.0        0.0        0.0        0.0   \n",
              "\n",
              "   year|2018  year|2019  year|2020                      id  \n",
              "0        0.0        0.0        0.0  2ghebdwe2pNXT4eL34T7pW  \n",
              "1        0.0        0.0        0.0  3KIuCzckjdeeVuswPo20mC  \n",
              "2        0.0        0.0        0.0  4prhqrLXYMjHJ6vpRAlasx  \n",
              "3        0.0        0.0        0.0  5xFXTvnEe03SyvFpo6pEaE  \n",
              "4        0.0        0.0        0.0  6Pqs2suXEqCGx7Lxg5dlrB  \n",
              "\n",
              "[5 rows x 3071 columns]"
            ],
            "text/html": [
              "<div>\n",
              "<style scoped>\n",
              "    .dataframe tbody tr th:only-of-type {\n",
              "        vertical-align: middle;\n",
              "    }\n",
              "\n",
              "    .dataframe tbody tr th {\n",
              "        vertical-align: top;\n",
              "    }\n",
              "\n",
              "    .dataframe thead th {\n",
              "        text-align: right;\n",
              "    }\n",
              "</style>\n",
              "<table border=\"1\" class=\"dataframe\">\n",
              "  <thead>\n",
              "    <tr style=\"text-align: right;\">\n",
              "      <th></th>\n",
              "      <th>genre|21st_century_classical</th>\n",
              "      <th>genre|432hz</th>\n",
              "      <th>genre|_hip_hop</th>\n",
              "      <th>genre|a_cappella</th>\n",
              "      <th>genre|abstract</th>\n",
              "      <th>genre|abstract_beats</th>\n",
              "      <th>genre|abstract_hip_hop</th>\n",
              "      <th>genre|accordeon</th>\n",
              "      <th>genre|accordion</th>\n",
              "      <th>genre|acid_house</th>\n",
              "      <th>...</th>\n",
              "      <th>year|2012</th>\n",
              "      <th>year|2013</th>\n",
              "      <th>year|2014</th>\n",
              "      <th>year|2015</th>\n",
              "      <th>year|2016</th>\n",
              "      <th>year|2017</th>\n",
              "      <th>year|2018</th>\n",
              "      <th>year|2019</th>\n",
              "      <th>year|2020</th>\n",
              "      <th>id</th>\n",
              "    </tr>\n",
              "  </thead>\n",
              "  <tbody>\n",
              "    <tr>\n",
              "      <th>0</th>\n",
              "      <td>0.0</td>\n",
              "      <td>0.0</td>\n",
              "      <td>0.0</td>\n",
              "      <td>0.0</td>\n",
              "      <td>0.0</td>\n",
              "      <td>0.0</td>\n",
              "      <td>0.0</td>\n",
              "      <td>0.0</td>\n",
              "      <td>0.0</td>\n",
              "      <td>0.0</td>\n",
              "      <td>...</td>\n",
              "      <td>0.0</td>\n",
              "      <td>0.0</td>\n",
              "      <td>0.0</td>\n",
              "      <td>0.0</td>\n",
              "      <td>0.0</td>\n",
              "      <td>0.0</td>\n",
              "      <td>0.0</td>\n",
              "      <td>0.0</td>\n",
              "      <td>0.0</td>\n",
              "      <td>2ghebdwe2pNXT4eL34T7pW</td>\n",
              "    </tr>\n",
              "    <tr>\n",
              "      <th>1</th>\n",
              "      <td>0.0</td>\n",
              "      <td>0.0</td>\n",
              "      <td>0.0</td>\n",
              "      <td>0.0</td>\n",
              "      <td>0.0</td>\n",
              "      <td>0.0</td>\n",
              "      <td>0.0</td>\n",
              "      <td>0.0</td>\n",
              "      <td>0.0</td>\n",
              "      <td>0.0</td>\n",
              "      <td>...</td>\n",
              "      <td>0.0</td>\n",
              "      <td>0.0</td>\n",
              "      <td>0.0</td>\n",
              "      <td>0.0</td>\n",
              "      <td>0.0</td>\n",
              "      <td>0.0</td>\n",
              "      <td>0.0</td>\n",
              "      <td>0.0</td>\n",
              "      <td>0.0</td>\n",
              "      <td>3KIuCzckjdeeVuswPo20mC</td>\n",
              "    </tr>\n",
              "    <tr>\n",
              "      <th>2</th>\n",
              "      <td>0.0</td>\n",
              "      <td>0.0</td>\n",
              "      <td>0.0</td>\n",
              "      <td>0.0</td>\n",
              "      <td>0.0</td>\n",
              "      <td>0.0</td>\n",
              "      <td>0.0</td>\n",
              "      <td>0.0</td>\n",
              "      <td>0.0</td>\n",
              "      <td>0.0</td>\n",
              "      <td>...</td>\n",
              "      <td>0.0</td>\n",
              "      <td>0.0</td>\n",
              "      <td>0.0</td>\n",
              "      <td>0.0</td>\n",
              "      <td>0.0</td>\n",
              "      <td>0.0</td>\n",
              "      <td>0.0</td>\n",
              "      <td>0.0</td>\n",
              "      <td>0.0</td>\n",
              "      <td>4prhqrLXYMjHJ6vpRAlasx</td>\n",
              "    </tr>\n",
              "    <tr>\n",
              "      <th>3</th>\n",
              "      <td>0.0</td>\n",
              "      <td>0.0</td>\n",
              "      <td>0.0</td>\n",
              "      <td>0.0</td>\n",
              "      <td>0.0</td>\n",
              "      <td>0.0</td>\n",
              "      <td>0.0</td>\n",
              "      <td>0.0</td>\n",
              "      <td>0.0</td>\n",
              "      <td>0.0</td>\n",
              "      <td>...</td>\n",
              "      <td>0.0</td>\n",
              "      <td>0.0</td>\n",
              "      <td>0.0</td>\n",
              "      <td>0.0</td>\n",
              "      <td>0.0</td>\n",
              "      <td>0.0</td>\n",
              "      <td>0.0</td>\n",
              "      <td>0.0</td>\n",
              "      <td>0.0</td>\n",
              "      <td>5xFXTvnEe03SyvFpo6pEaE</td>\n",
              "    </tr>\n",
              "    <tr>\n",
              "      <th>4</th>\n",
              "      <td>0.0</td>\n",
              "      <td>0.0</td>\n",
              "      <td>0.0</td>\n",
              "      <td>0.0</td>\n",
              "      <td>0.0</td>\n",
              "      <td>0.0</td>\n",
              "      <td>0.0</td>\n",
              "      <td>0.0</td>\n",
              "      <td>0.0</td>\n",
              "      <td>0.0</td>\n",
              "      <td>...</td>\n",
              "      <td>0.0</td>\n",
              "      <td>0.0</td>\n",
              "      <td>0.0</td>\n",
              "      <td>0.0</td>\n",
              "      <td>0.0</td>\n",
              "      <td>0.0</td>\n",
              "      <td>0.0</td>\n",
              "      <td>0.0</td>\n",
              "      <td>0.0</td>\n",
              "      <td>6Pqs2suXEqCGx7Lxg5dlrB</td>\n",
              "    </tr>\n",
              "  </tbody>\n",
              "</table>\n",
              "<p>5 rows × 3071 columns</p>\n",
              "</div>"
            ]
          },
          "metadata": {},
          "execution_count": 80
        }
      ]
    },
    {
      "cell_type": "code",
      "source": [
        "complete_feature_set_playlist_vector"
      ],
      "metadata": {
        "colab": {
          "base_uri": "https://localhost:8080/"
        },
        "id": "t2bkuZLKgCQx",
        "outputId": "3f31062f-9d74-40f3-e6c9-cb9bd61493ee"
      },
      "execution_count": null,
      "outputs": [
        {
          "output_type": "execute_result",
          "data": {
            "text/plain": [
              "genre|21st_century_classical    0.0\n",
              "genre|432hz                     0.0\n",
              "genre|_hip_hop                  0.0\n",
              "genre|a_cappella                0.0\n",
              "genre|abstract                  0.0\n",
              "                               ... \n",
              "year|2016                       0.0\n",
              "year|2017                       0.0\n",
              "year|2018                       0.0\n",
              "year|2019                       0.0\n",
              "year|2020                       0.0\n",
              "Length: 3070, dtype: float64"
            ]
          },
          "metadata": {},
          "execution_count": 81
        }
      ]
    },
    {
      "cell_type": "code",
      "source": [
        "def generate_playlist_recos(df, features, nonplaylist_features):\n",
        "    \"\"\"\n",
        "    Pull songs from a specific playlist.\n",
        "\n",
        "    Parameters:\n",
        "        df (pandas dataframe): spotify dataframe\n",
        "        features (pandas series): summarized playlist feature\n",
        "        nonplaylist_features (pandas dataframe): feature set of songs that are not in the selected playlist\n",
        "\n",
        "    Returns:\n",
        "        non_playlist_df_top_40: Top 40 recommendations for that playlist\n",
        "    \"\"\"\n",
        "\n",
        "    non_playlist_df = df[df['id'].isin(nonplaylist_features['id'].values)]\n",
        "    non_playlist_df['sim'] = cosine_similarity(nonplaylist_features.drop('id', axis = 1).values, features.values.reshape(1, -1))[:,0]\n",
        "    non_playlist_df_top_40 = non_playlist_df.sort_values('sim',ascending = False).head(40)\n",
        "    non_playlist_df_top_40['url'] = non_playlist_df_top_40['id'].apply(lambda x: sp.track(x)['album']['images'][1]['url'])\n",
        "\n",
        "    return non_playlist_df_top_40"
      ],
      "metadata": {
        "id": "Sbxfqcg5xwW4"
      },
      "execution_count": null,
      "outputs": []
    },
    {
      "cell_type": "code",
      "source": [
        "top40 = generate_playlist_recos(spotify_df, complete_feature_set_playlist_vector, complete_feature_set_nonplaylist)"
      ],
      "metadata": {
        "id": "0UjliziEgUUQ",
        "colab": {
          "base_uri": "https://localhost:8080/",
          "height": 1000
        },
        "outputId": "90475669-0249-4f16-fc4f-243bd43f5504"
      },
      "execution_count": null,
      "outputs": [
        {
          "output_type": "stream",
          "name": "stderr",
          "text": [
            "Couldn't read cache at: .cache\n"
          ]
        },
        {
          "output_type": "error",
          "ename": "SpotifyOauthError",
          "evalue": "ignored",
          "traceback": [
            "\u001b[0;31m---------------------------------------------------------------------------\u001b[0m",
            "\u001b[0;31mHTTPError\u001b[0m                                 Traceback (most recent call last)",
            "File \u001b[0;32m/Library/Frameworks/Python.framework/Versions/3.11/lib/python3.11/site-packages/spotipy/oauth2.py:265\u001b[0m, in \u001b[0;36mSpotifyClientCredentials._request_access_token\u001b[0;34m(self)\u001b[0m\n\u001b[1;32m    257\u001b[0m response \u001b[38;5;241m=\u001b[39m \u001b[38;5;28mself\u001b[39m\u001b[38;5;241m.\u001b[39m_session\u001b[38;5;241m.\u001b[39mpost(\n\u001b[1;32m    258\u001b[0m     \u001b[38;5;28mself\u001b[39m\u001b[38;5;241m.\u001b[39mOAUTH_TOKEN_URL,\n\u001b[1;32m    259\u001b[0m     data\u001b[38;5;241m=\u001b[39mpayload,\n\u001b[0;32m   (...)\u001b[0m\n\u001b[1;32m    263\u001b[0m     timeout\u001b[38;5;241m=\u001b[39m\u001b[38;5;28mself\u001b[39m\u001b[38;5;241m.\u001b[39mrequests_timeout,\n\u001b[1;32m    264\u001b[0m )\n\u001b[0;32m--> 265\u001b[0m \u001b[43mresponse\u001b[49m\u001b[38;5;241;43m.\u001b[39;49m\u001b[43mraise_for_status\u001b[49m\u001b[43m(\u001b[49m\u001b[43m)\u001b[49m\n\u001b[1;32m    266\u001b[0m token_info \u001b[38;5;241m=\u001b[39m response\u001b[38;5;241m.\u001b[39mjson()\n",
            "File \u001b[0;32m/Library/Frameworks/Python.framework/Versions/3.11/lib/python3.11/site-packages/requests/models.py:1021\u001b[0m, in \u001b[0;36mResponse.raise_for_status\u001b[0;34m(self)\u001b[0m\n\u001b[1;32m   1020\u001b[0m \u001b[38;5;28;01mif\u001b[39;00m http_error_msg:\n\u001b[0;32m-> 1021\u001b[0m     \u001b[38;5;28;01mraise\u001b[39;00m HTTPError(http_error_msg, response\u001b[38;5;241m=\u001b[39m\u001b[38;5;28mself\u001b[39m)\n",
            "\u001b[0;31mHTTPError\u001b[0m: 400 Client Error: Bad Request for url: https://accounts.spotify.com/api/token",
            "\nDuring handling of the above exception, another exception occurred:\n",
            "\u001b[0;31mSpotifyOauthError\u001b[0m                         Traceback (most recent call last)",
            "Cell \u001b[0;32mIn[162], line 1\u001b[0m\n\u001b[0;32m----> 1\u001b[0m top40 \u001b[38;5;241m=\u001b[39m \u001b[43mgenerate_playlist_recos\u001b[49m\u001b[43m(\u001b[49m\u001b[43mspotify_df\u001b[49m\u001b[43m,\u001b[49m\u001b[43m \u001b[49m\u001b[43mcomplete_feature_set_playlist_vector\u001b[49m\u001b[43m,\u001b[49m\u001b[43m \u001b[49m\u001b[43mcomplete_feature_set_nonplaylist\u001b[49m\u001b[43m)\u001b[49m\n",
            "Cell \u001b[0;32mIn[82], line 17\u001b[0m, in \u001b[0;36mgenerate_playlist_recos\u001b[0;34m(df, features, nonplaylist_features)\u001b[0m\n\u001b[1;32m     15\u001b[0m non_playlist_df[\u001b[38;5;124m'\u001b[39m\u001b[38;5;124msim\u001b[39m\u001b[38;5;124m'\u001b[39m] \u001b[38;5;241m=\u001b[39m cosine_similarity(nonplaylist_features\u001b[38;5;241m.\u001b[39mdrop(\u001b[38;5;124m'\u001b[39m\u001b[38;5;124mid\u001b[39m\u001b[38;5;124m'\u001b[39m, axis \u001b[38;5;241m=\u001b[39m \u001b[38;5;241m1\u001b[39m)\u001b[38;5;241m.\u001b[39mvalues, features\u001b[38;5;241m.\u001b[39mvalues\u001b[38;5;241m.\u001b[39mreshape(\u001b[38;5;241m1\u001b[39m, \u001b[38;5;241m-\u001b[39m\u001b[38;5;241m1\u001b[39m))[:,\u001b[38;5;241m0\u001b[39m]\n\u001b[1;32m     16\u001b[0m non_playlist_df_top_40 \u001b[38;5;241m=\u001b[39m non_playlist_df\u001b[38;5;241m.\u001b[39msort_values(\u001b[38;5;124m'\u001b[39m\u001b[38;5;124msim\u001b[39m\u001b[38;5;124m'\u001b[39m,ascending \u001b[38;5;241m=\u001b[39m \u001b[38;5;28;01mFalse\u001b[39;00m)\u001b[38;5;241m.\u001b[39mhead(\u001b[38;5;241m40\u001b[39m)\n\u001b[0;32m---> 17\u001b[0m non_playlist_df_top_40[\u001b[38;5;124m'\u001b[39m\u001b[38;5;124murl\u001b[39m\u001b[38;5;124m'\u001b[39m] \u001b[38;5;241m=\u001b[39m \u001b[43mnon_playlist_df_top_40\u001b[49m\u001b[43m[\u001b[49m\u001b[38;5;124;43m'\u001b[39;49m\u001b[38;5;124;43mid\u001b[39;49m\u001b[38;5;124;43m'\u001b[39;49m\u001b[43m]\u001b[49m\u001b[38;5;241;43m.\u001b[39;49m\u001b[43mapply\u001b[49m\u001b[43m(\u001b[49m\u001b[38;5;28;43;01mlambda\u001b[39;49;00m\u001b[43m \u001b[49m\u001b[43mx\u001b[49m\u001b[43m:\u001b[49m\u001b[43m \u001b[49m\u001b[43msp\u001b[49m\u001b[38;5;241;43m.\u001b[39;49m\u001b[43mtrack\u001b[49m\u001b[43m(\u001b[49m\u001b[43mx\u001b[49m\u001b[43m)\u001b[49m\u001b[43m[\u001b[49m\u001b[38;5;124;43m'\u001b[39;49m\u001b[38;5;124;43malbum\u001b[39;49m\u001b[38;5;124;43m'\u001b[39;49m\u001b[43m]\u001b[49m\u001b[43m[\u001b[49m\u001b[38;5;124;43m'\u001b[39;49m\u001b[38;5;124;43mimages\u001b[39;49m\u001b[38;5;124;43m'\u001b[39;49m\u001b[43m]\u001b[49m\u001b[43m[\u001b[49m\u001b[38;5;241;43m1\u001b[39;49m\u001b[43m]\u001b[49m\u001b[43m[\u001b[49m\u001b[38;5;124;43m'\u001b[39;49m\u001b[38;5;124;43murl\u001b[39;49m\u001b[38;5;124;43m'\u001b[39;49m\u001b[43m]\u001b[49m\u001b[43m)\u001b[49m\n\u001b[1;32m     19\u001b[0m \u001b[38;5;28;01mreturn\u001b[39;00m non_playlist_df_top_40\n",
            "File \u001b[0;32m/Library/Frameworks/Python.framework/Versions/3.11/lib/python3.11/site-packages/pandas/core/series.py:4626\u001b[0m, in \u001b[0;36mSeries.apply\u001b[0;34m(self, func, convert_dtype, args, **kwargs)\u001b[0m\n\u001b[1;32m   4516\u001b[0m \u001b[38;5;28;01mdef\u001b[39;00m \u001b[38;5;21mapply\u001b[39m(\n\u001b[1;32m   4517\u001b[0m     \u001b[38;5;28mself\u001b[39m,\n\u001b[1;32m   4518\u001b[0m     func: AggFuncType,\n\u001b[0;32m   (...)\u001b[0m\n\u001b[1;32m   4521\u001b[0m     \u001b[38;5;241m*\u001b[39m\u001b[38;5;241m*\u001b[39mkwargs,\n\u001b[1;32m   4522\u001b[0m ) \u001b[38;5;241m-\u001b[39m\u001b[38;5;241m>\u001b[39m DataFrame \u001b[38;5;241m|\u001b[39m Series:\n\u001b[1;32m   4523\u001b[0m \u001b[38;5;250m    \u001b[39m\u001b[38;5;124;03m\"\"\"\u001b[39;00m\n\u001b[1;32m   4524\u001b[0m \u001b[38;5;124;03m    Invoke function on values of Series.\u001b[39;00m\n\u001b[1;32m   4525\u001b[0m \n\u001b[0;32m   (...)\u001b[0m\n\u001b[1;32m   4624\u001b[0m \u001b[38;5;124;03m    dtype: float64\u001b[39;00m\n\u001b[1;32m   4625\u001b[0m \u001b[38;5;124;03m    \"\"\"\u001b[39;00m\n\u001b[0;32m-> 4626\u001b[0m     \u001b[38;5;28;01mreturn\u001b[39;00m \u001b[43mSeriesApply\u001b[49m\u001b[43m(\u001b[49m\u001b[38;5;28;43mself\u001b[39;49m\u001b[43m,\u001b[49m\u001b[43m \u001b[49m\u001b[43mfunc\u001b[49m\u001b[43m,\u001b[49m\u001b[43m \u001b[49m\u001b[43mconvert_dtype\u001b[49m\u001b[43m,\u001b[49m\u001b[43m \u001b[49m\u001b[43margs\u001b[49m\u001b[43m,\u001b[49m\u001b[43m \u001b[49m\u001b[43mkwargs\u001b[49m\u001b[43m)\u001b[49m\u001b[38;5;241;43m.\u001b[39;49m\u001b[43mapply\u001b[49m\u001b[43m(\u001b[49m\u001b[43m)\u001b[49m\n",
            "File \u001b[0;32m/Library/Frameworks/Python.framework/Versions/3.11/lib/python3.11/site-packages/pandas/core/apply.py:1025\u001b[0m, in \u001b[0;36mSeriesApply.apply\u001b[0;34m(self)\u001b[0m\n\u001b[1;32m   1022\u001b[0m     \u001b[38;5;28;01mreturn\u001b[39;00m \u001b[38;5;28mself\u001b[39m\u001b[38;5;241m.\u001b[39mapply_str()\n\u001b[1;32m   1024\u001b[0m \u001b[38;5;66;03m# self.f is Callable\u001b[39;00m\n\u001b[0;32m-> 1025\u001b[0m \u001b[38;5;28;01mreturn\u001b[39;00m \u001b[38;5;28;43mself\u001b[39;49m\u001b[38;5;241;43m.\u001b[39;49m\u001b[43mapply_standard\u001b[49m\u001b[43m(\u001b[49m\u001b[43m)\u001b[49m\n",
            "File \u001b[0;32m/Library/Frameworks/Python.framework/Versions/3.11/lib/python3.11/site-packages/pandas/core/apply.py:1076\u001b[0m, in \u001b[0;36mSeriesApply.apply_standard\u001b[0;34m(self)\u001b[0m\n\u001b[1;32m   1074\u001b[0m     \u001b[38;5;28;01melse\u001b[39;00m:\n\u001b[1;32m   1075\u001b[0m         values \u001b[38;5;241m=\u001b[39m obj\u001b[38;5;241m.\u001b[39mastype(\u001b[38;5;28mobject\u001b[39m)\u001b[38;5;241m.\u001b[39m_values\n\u001b[0;32m-> 1076\u001b[0m         mapped \u001b[38;5;241m=\u001b[39m \u001b[43mlib\u001b[49m\u001b[38;5;241;43m.\u001b[39;49m\u001b[43mmap_infer\u001b[49m\u001b[43m(\u001b[49m\n\u001b[1;32m   1077\u001b[0m \u001b[43m            \u001b[49m\u001b[43mvalues\u001b[49m\u001b[43m,\u001b[49m\n\u001b[1;32m   1078\u001b[0m \u001b[43m            \u001b[49m\u001b[43mf\u001b[49m\u001b[43m,\u001b[49m\n\u001b[1;32m   1079\u001b[0m \u001b[43m            \u001b[49m\u001b[43mconvert\u001b[49m\u001b[38;5;241;43m=\u001b[39;49m\u001b[38;5;28;43mself\u001b[39;49m\u001b[38;5;241;43m.\u001b[39;49m\u001b[43mconvert_dtype\u001b[49m\u001b[43m,\u001b[49m\n\u001b[1;32m   1080\u001b[0m \u001b[43m        \u001b[49m\u001b[43m)\u001b[49m\n\u001b[1;32m   1082\u001b[0m \u001b[38;5;28;01mif\u001b[39;00m \u001b[38;5;28mlen\u001b[39m(mapped) \u001b[38;5;129;01mand\u001b[39;00m \u001b[38;5;28misinstance\u001b[39m(mapped[\u001b[38;5;241m0\u001b[39m], ABCSeries):\n\u001b[1;32m   1083\u001b[0m     \u001b[38;5;66;03m# GH#43986 Need to do list(mapped) in order to get treated as nested\u001b[39;00m\n\u001b[1;32m   1084\u001b[0m     \u001b[38;5;66;03m#  See also GH#25959 regarding EA support\u001b[39;00m\n\u001b[1;32m   1085\u001b[0m     \u001b[38;5;28;01mreturn\u001b[39;00m obj\u001b[38;5;241m.\u001b[39m_constructor_expanddim(\u001b[38;5;28mlist\u001b[39m(mapped), index\u001b[38;5;241m=\u001b[39mobj\u001b[38;5;241m.\u001b[39mindex)\n",
            "File \u001b[0;32m/Library/Frameworks/Python.framework/Versions/3.11/lib/python3.11/site-packages/pandas/_libs/lib.pyx:2834\u001b[0m, in \u001b[0;36mpandas._libs.lib.map_infer\u001b[0;34m()\u001b[0m\n",
            "Cell \u001b[0;32mIn[82], line 17\u001b[0m, in \u001b[0;36mgenerate_playlist_recos.<locals>.<lambda>\u001b[0;34m(x)\u001b[0m\n\u001b[1;32m     15\u001b[0m non_playlist_df[\u001b[38;5;124m'\u001b[39m\u001b[38;5;124msim\u001b[39m\u001b[38;5;124m'\u001b[39m] \u001b[38;5;241m=\u001b[39m cosine_similarity(nonplaylist_features\u001b[38;5;241m.\u001b[39mdrop(\u001b[38;5;124m'\u001b[39m\u001b[38;5;124mid\u001b[39m\u001b[38;5;124m'\u001b[39m, axis \u001b[38;5;241m=\u001b[39m \u001b[38;5;241m1\u001b[39m)\u001b[38;5;241m.\u001b[39mvalues, features\u001b[38;5;241m.\u001b[39mvalues\u001b[38;5;241m.\u001b[39mreshape(\u001b[38;5;241m1\u001b[39m, \u001b[38;5;241m-\u001b[39m\u001b[38;5;241m1\u001b[39m))[:,\u001b[38;5;241m0\u001b[39m]\n\u001b[1;32m     16\u001b[0m non_playlist_df_top_40 \u001b[38;5;241m=\u001b[39m non_playlist_df\u001b[38;5;241m.\u001b[39msort_values(\u001b[38;5;124m'\u001b[39m\u001b[38;5;124msim\u001b[39m\u001b[38;5;124m'\u001b[39m,ascending \u001b[38;5;241m=\u001b[39m \u001b[38;5;28;01mFalse\u001b[39;00m)\u001b[38;5;241m.\u001b[39mhead(\u001b[38;5;241m40\u001b[39m)\n\u001b[0;32m---> 17\u001b[0m non_playlist_df_top_40[\u001b[38;5;124m'\u001b[39m\u001b[38;5;124murl\u001b[39m\u001b[38;5;124m'\u001b[39m] \u001b[38;5;241m=\u001b[39m non_playlist_df_top_40[\u001b[38;5;124m'\u001b[39m\u001b[38;5;124mid\u001b[39m\u001b[38;5;124m'\u001b[39m]\u001b[38;5;241m.\u001b[39mapply(\u001b[38;5;28;01mlambda\u001b[39;00m x: \u001b[43msp\u001b[49m\u001b[38;5;241;43m.\u001b[39;49m\u001b[43mtrack\u001b[49m\u001b[43m(\u001b[49m\u001b[43mx\u001b[49m\u001b[43m)\u001b[49m[\u001b[38;5;124m'\u001b[39m\u001b[38;5;124malbum\u001b[39m\u001b[38;5;124m'\u001b[39m][\u001b[38;5;124m'\u001b[39m\u001b[38;5;124mimages\u001b[39m\u001b[38;5;124m'\u001b[39m][\u001b[38;5;241m1\u001b[39m][\u001b[38;5;124m'\u001b[39m\u001b[38;5;124murl\u001b[39m\u001b[38;5;124m'\u001b[39m])\n\u001b[1;32m     19\u001b[0m \u001b[38;5;28;01mreturn\u001b[39;00m non_playlist_df_top_40\n",
            "File \u001b[0;32m/Library/Frameworks/Python.framework/Versions/3.11/lib/python3.11/site-packages/spotipy/client.py:371\u001b[0m, in \u001b[0;36mSpotify.track\u001b[0;34m(self, track_id, market)\u001b[0m\n\u001b[1;32m    363\u001b[0m \u001b[38;5;250m\u001b[39m\u001b[38;5;124;03m\"\"\" returns a single track given the track's ID, URI or URL\u001b[39;00m\n\u001b[1;32m    364\u001b[0m \n\u001b[1;32m    365\u001b[0m \u001b[38;5;124;03m    Parameters:\u001b[39;00m\n\u001b[1;32m    366\u001b[0m \u001b[38;5;124;03m        - track_id - a spotify URI, URL or ID\u001b[39;00m\n\u001b[1;32m    367\u001b[0m \u001b[38;5;124;03m        - market - an ISO 3166-1 alpha-2 country code.\u001b[39;00m\n\u001b[1;32m    368\u001b[0m \u001b[38;5;124;03m\"\"\"\u001b[39;00m\n\u001b[1;32m    370\u001b[0m trid \u001b[38;5;241m=\u001b[39m \u001b[38;5;28mself\u001b[39m\u001b[38;5;241m.\u001b[39m_get_id(\u001b[38;5;124m\"\u001b[39m\u001b[38;5;124mtrack\u001b[39m\u001b[38;5;124m\"\u001b[39m, track_id)\n\u001b[0;32m--> 371\u001b[0m \u001b[38;5;28;01mreturn\u001b[39;00m \u001b[38;5;28;43mself\u001b[39;49m\u001b[38;5;241;43m.\u001b[39;49m\u001b[43m_get\u001b[49m\u001b[43m(\u001b[49m\u001b[38;5;124;43m\"\u001b[39;49m\u001b[38;5;124;43mtracks/\u001b[39;49m\u001b[38;5;124;43m\"\u001b[39;49m\u001b[43m \u001b[49m\u001b[38;5;241;43m+\u001b[39;49m\u001b[43m \u001b[49m\u001b[43mtrid\u001b[49m\u001b[43m,\u001b[49m\u001b[43m \u001b[49m\u001b[43mmarket\u001b[49m\u001b[38;5;241;43m=\u001b[39;49m\u001b[43mmarket\u001b[49m\u001b[43m)\u001b[49m\n",
            "File \u001b[0;32m/Library/Frameworks/Python.framework/Versions/3.11/lib/python3.11/site-packages/spotipy/client.py:323\u001b[0m, in \u001b[0;36mSpotify._get\u001b[0;34m(self, url, args, payload, **kwargs)\u001b[0m\n\u001b[1;32m    320\u001b[0m \u001b[38;5;28;01mif\u001b[39;00m args:\n\u001b[1;32m    321\u001b[0m     kwargs\u001b[38;5;241m.\u001b[39mupdate(args)\n\u001b[0;32m--> 323\u001b[0m \u001b[38;5;28;01mreturn\u001b[39;00m \u001b[38;5;28;43mself\u001b[39;49m\u001b[38;5;241;43m.\u001b[39;49m\u001b[43m_internal_call\u001b[49m\u001b[43m(\u001b[49m\u001b[38;5;124;43m\"\u001b[39;49m\u001b[38;5;124;43mGET\u001b[39;49m\u001b[38;5;124;43m\"\u001b[39;49m\u001b[43m,\u001b[49m\u001b[43m \u001b[49m\u001b[43murl\u001b[49m\u001b[43m,\u001b[49m\u001b[43m \u001b[49m\u001b[43mpayload\u001b[49m\u001b[43m,\u001b[49m\u001b[43m \u001b[49m\u001b[43mkwargs\u001b[49m\u001b[43m)\u001b[49m\n",
            "File \u001b[0;32m/Library/Frameworks/Python.framework/Versions/3.11/lib/python3.11/site-packages/spotipy/client.py:247\u001b[0m, in \u001b[0;36mSpotify._internal_call\u001b[0;34m(self, method, url, payload, params)\u001b[0m\n\u001b[1;32m    245\u001b[0m \u001b[38;5;28;01mif\u001b[39;00m \u001b[38;5;129;01mnot\u001b[39;00m url\u001b[38;5;241m.\u001b[39mstartswith(\u001b[38;5;124m\"\u001b[39m\u001b[38;5;124mhttp\u001b[39m\u001b[38;5;124m\"\u001b[39m):\n\u001b[1;32m    246\u001b[0m     url \u001b[38;5;241m=\u001b[39m \u001b[38;5;28mself\u001b[39m\u001b[38;5;241m.\u001b[39mprefix \u001b[38;5;241m+\u001b[39m url\n\u001b[0;32m--> 247\u001b[0m headers \u001b[38;5;241m=\u001b[39m \u001b[38;5;28;43mself\u001b[39;49m\u001b[38;5;241;43m.\u001b[39;49m\u001b[43m_auth_headers\u001b[49m\u001b[43m(\u001b[49m\u001b[43m)\u001b[49m\n\u001b[1;32m    249\u001b[0m \u001b[38;5;28;01mif\u001b[39;00m \u001b[38;5;124m\"\u001b[39m\u001b[38;5;124mcontent_type\u001b[39m\u001b[38;5;124m\"\u001b[39m \u001b[38;5;129;01min\u001b[39;00m args[\u001b[38;5;124m\"\u001b[39m\u001b[38;5;124mparams\u001b[39m\u001b[38;5;124m\"\u001b[39m]:\n\u001b[1;32m    250\u001b[0m     headers[\u001b[38;5;124m\"\u001b[39m\u001b[38;5;124mContent-Type\u001b[39m\u001b[38;5;124m\"\u001b[39m] \u001b[38;5;241m=\u001b[39m args[\u001b[38;5;124m\"\u001b[39m\u001b[38;5;124mparams\u001b[39m\u001b[38;5;124m\"\u001b[39m][\u001b[38;5;124m\"\u001b[39m\u001b[38;5;124mcontent_type\u001b[39m\u001b[38;5;124m\"\u001b[39m]\n",
            "File \u001b[0;32m/Library/Frameworks/Python.framework/Versions/3.11/lib/python3.11/site-packages/spotipy/client.py:238\u001b[0m, in \u001b[0;36mSpotify._auth_headers\u001b[0;34m(self)\u001b[0m\n\u001b[1;32m    236\u001b[0m     \u001b[38;5;28;01mreturn\u001b[39;00m {}\n\u001b[1;32m    237\u001b[0m \u001b[38;5;28;01mtry\u001b[39;00m:\n\u001b[0;32m--> 238\u001b[0m     token \u001b[38;5;241m=\u001b[39m \u001b[38;5;28;43mself\u001b[39;49m\u001b[38;5;241;43m.\u001b[39;49m\u001b[43mauth_manager\u001b[49m\u001b[38;5;241;43m.\u001b[39;49m\u001b[43mget_access_token\u001b[49m\u001b[43m(\u001b[49m\u001b[43mas_dict\u001b[49m\u001b[38;5;241;43m=\u001b[39;49m\u001b[38;5;28;43;01mFalse\u001b[39;49;00m\u001b[43m)\u001b[49m\n\u001b[1;32m    239\u001b[0m \u001b[38;5;28;01mexcept\u001b[39;00m \u001b[38;5;167;01mTypeError\u001b[39;00m:\n\u001b[1;32m    240\u001b[0m     token \u001b[38;5;241m=\u001b[39m \u001b[38;5;28mself\u001b[39m\u001b[38;5;241m.\u001b[39mauth_manager\u001b[38;5;241m.\u001b[39mget_access_token()\n",
            "File \u001b[0;32m/Library/Frameworks/Python.framework/Versions/3.11/lib/python3.11/site-packages/spotipy/oauth2.py:238\u001b[0m, in \u001b[0;36mSpotifyClientCredentials.get_access_token\u001b[0;34m(self, as_dict, check_cache)\u001b[0m\n\u001b[1;32m    235\u001b[0m     \u001b[38;5;28;01mif\u001b[39;00m token_info \u001b[38;5;129;01mand\u001b[39;00m \u001b[38;5;129;01mnot\u001b[39;00m \u001b[38;5;28mself\u001b[39m\u001b[38;5;241m.\u001b[39mis_token_expired(token_info):\n\u001b[1;32m    236\u001b[0m         \u001b[38;5;28;01mreturn\u001b[39;00m token_info \u001b[38;5;28;01mif\u001b[39;00m as_dict \u001b[38;5;28;01melse\u001b[39;00m token_info[\u001b[38;5;124m\"\u001b[39m\u001b[38;5;124maccess_token\u001b[39m\u001b[38;5;124m\"\u001b[39m]\n\u001b[0;32m--> 238\u001b[0m token_info \u001b[38;5;241m=\u001b[39m \u001b[38;5;28;43mself\u001b[39;49m\u001b[38;5;241;43m.\u001b[39;49m\u001b[43m_request_access_token\u001b[49m\u001b[43m(\u001b[49m\u001b[43m)\u001b[49m\n\u001b[1;32m    239\u001b[0m token_info \u001b[38;5;241m=\u001b[39m \u001b[38;5;28mself\u001b[39m\u001b[38;5;241m.\u001b[39m_add_custom_values_to_token_info(token_info)\n\u001b[1;32m    240\u001b[0m \u001b[38;5;28mself\u001b[39m\u001b[38;5;241m.\u001b[39mcache_handler\u001b[38;5;241m.\u001b[39msave_token_to_cache(token_info)\n",
            "File \u001b[0;32m/Library/Frameworks/Python.framework/Versions/3.11/lib/python3.11/site-packages/spotipy/oauth2.py:269\u001b[0m, in \u001b[0;36mSpotifyClientCredentials._request_access_token\u001b[0;34m(self)\u001b[0m\n\u001b[1;32m    267\u001b[0m     \u001b[38;5;28;01mreturn\u001b[39;00m token_info\n\u001b[1;32m    268\u001b[0m \u001b[38;5;28;01mexcept\u001b[39;00m requests\u001b[38;5;241m.\u001b[39mexceptions\u001b[38;5;241m.\u001b[39mHTTPError \u001b[38;5;28;01mas\u001b[39;00m http_error:\n\u001b[0;32m--> 269\u001b[0m     \u001b[38;5;28;43mself\u001b[39;49m\u001b[38;5;241;43m.\u001b[39;49m\u001b[43m_handle_oauth_error\u001b[49m\u001b[43m(\u001b[49m\u001b[43mhttp_error\u001b[49m\u001b[43m)\u001b[49m\n",
            "File \u001b[0;32m/Library/Frameworks/Python.framework/Versions/3.11/lib/python3.11/site-packages/spotipy/oauth2.py:146\u001b[0m, in \u001b[0;36mSpotifyAuthBase._handle_oauth_error\u001b[0;34m(self, http_error)\u001b[0m\n\u001b[1;32m    143\u001b[0m     error \u001b[38;5;241m=\u001b[39m response\u001b[38;5;241m.\u001b[39mtext \u001b[38;5;129;01mor\u001b[39;00m \u001b[38;5;28;01mNone\u001b[39;00m\n\u001b[1;32m    144\u001b[0m     error_description \u001b[38;5;241m=\u001b[39m \u001b[38;5;28;01mNone\u001b[39;00m\n\u001b[0;32m--> 146\u001b[0m \u001b[38;5;28;01mraise\u001b[39;00m SpotifyOauthError(\n\u001b[1;32m    147\u001b[0m     \u001b[38;5;124m'\u001b[39m\u001b[38;5;124merror: \u001b[39m\u001b[38;5;132;01m{0}\u001b[39;00m\u001b[38;5;124m, error_description: \u001b[39m\u001b[38;5;132;01m{1}\u001b[39;00m\u001b[38;5;124m'\u001b[39m\u001b[38;5;241m.\u001b[39mformat(\n\u001b[1;32m    148\u001b[0m         error, error_description\n\u001b[1;32m    149\u001b[0m     ),\n\u001b[1;32m    150\u001b[0m     error\u001b[38;5;241m=\u001b[39merror,\n\u001b[1;32m    151\u001b[0m     error_description\u001b[38;5;241m=\u001b[39merror_description\n\u001b[1;32m    152\u001b[0m )\n",
            "\u001b[0;31mSpotifyOauthError\u001b[0m: error: invalid_client, error_description: Invalid client"
          ]
        }
      ]
    }
  ]
}